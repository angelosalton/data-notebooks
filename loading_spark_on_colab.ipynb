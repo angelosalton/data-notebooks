{
  "nbformat": 4,
  "nbformat_minor": 0,
  "metadata": {
    "colab": {
      "name": "loading-spark-on-colab.ipynb",
      "provenance": []
    },
    "kernelspec": {
      "name": "python3",
      "display_name": "Python 3"
    }
  },
  "cells": [
    {
      "cell_type": "markdown",
      "metadata": {
        "id": "dmodzg2X148u",
        "colab_type": "text"
      },
      "source": [
        "# Setup\n",
        "\n",
        "This is a quick piece of code showing how to fire [Apache Spark](https://spark.apache.org/) on Google Colab.\n",
        "\n",
        "First, we install the required packages and set environment variables:"
      ]
    },
    {
      "cell_type": "code",
      "metadata": {
        "id": "cuoVDPSB2IAw",
        "colab_type": "code",
        "colab": {}
      },
      "source": [
        "!apt-get install openjdk-8-jdk-headless -qq > /dev/null\n",
        "!wget -q https://archive.apache.org/dist/spark/spark-2.4.4/spark-2.4.4-bin-hadoop2.7.tgz\n",
        "!tar xf spark-2.4.4-bin-hadoop2.7.tgz\n",
        "!pip install -q findspark\n",
        "\n",
        "import os\n",
        "os.environ[\"JAVA_HOME\"] = \"/usr/lib/jvm/java-8-openjdk-amd64\"\n",
        "os.environ[\"SPARK_HOME\"] = \"/content/spark-2.4.4-bin-hadoop2.7\""
      ],
      "execution_count": null,
      "outputs": []
    },
    {
      "cell_type": "markdown",
      "metadata": {
        "id": "MljcOoQe2Qvk",
        "colab_type": "text"
      },
      "source": [
        "# Initializing\n",
        "\n",
        "Next, we start a Spark context. This step is needed only for the purpose of accessing the Spark UI, where we can monitor jobs and memory loads."
      ]
    },
    {
      "cell_type": "code",
      "metadata": {
        "id": "hvRTOupVKvq6",
        "colab_type": "code",
        "colab": {
          "base_uri": "https://localhost:8080/",
          "height": 199
        },
        "outputId": "acdfcf5c-c64e-4b93-a57e-4049040c0f75"
      },
      "source": [
        "import findspark\n",
        "findspark.init()\n",
        "\n",
        "import pyspark\n",
        "sc = pyspark.SparkContext('local[*]')\n",
        "sc # access Spark UI"
      ],
      "execution_count": null,
      "outputs": [
        {
          "output_type": "execute_result",
          "data": {
            "text/html": [
              "\n",
              "        <div>\n",
              "            <p><b>SparkContext</b></p>\n",
              "\n",
              "            <p><a href=\"http://936883255b51:4040\">Spark UI</a></p>\n",
              "\n",
              "            <dl>\n",
              "              <dt>Version</dt>\n",
              "                <dd><code>v2.4.4</code></dd>\n",
              "              <dt>Master</dt>\n",
              "                <dd><code>local[*]</code></dd>\n",
              "              <dt>AppName</dt>\n",
              "                <dd><code>pyspark-shell</code></dd>\n",
              "            </dl>\n",
              "        </div>\n",
              "        "
            ],
            "text/plain": [
              "<SparkContext master=local[*] appName=pyspark-shell>"
            ]
          },
          "metadata": {
            "tags": []
          },
          "execution_count": 9
        }
      ]
    },
    {
      "cell_type": "markdown",
      "metadata": {
        "id": "uhXs37MK2dzb",
        "colab_type": "text"
      },
      "source": [
        "And then, start a session:"
      ]
    },
    {
      "cell_type": "code",
      "metadata": {
        "id": "PnZyInNSKvrD",
        "colab_type": "code",
        "colab": {}
      },
      "source": [
        "from pyspark.sql.session import SparkSession\n",
        "\n",
        "spark = SparkSession.builder\\\n",
        "    .master('local[*]')\\\n",
        "    .getOrCreate()"
      ],
      "execution_count": null,
      "outputs": []
    }
  ]
}