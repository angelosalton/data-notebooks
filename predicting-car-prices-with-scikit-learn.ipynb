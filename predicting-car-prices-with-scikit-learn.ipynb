{
 "cells": [
  {
   "cell_type": "markdown",
   "metadata": {},
   "source": [
    "# Introduction\n",
    "\n",
    "In this notebook I will attempt to predict automobile prices using Python and its data analysis and machine learning packages such as `pandas` and `scikit-learn`. Forecasting car prices can be useful for businesses in general: insurance companies can use this information to calculate their premia; websites and enterprises can provide estimates even when asking prices are not available in a specific application; enterprises can set contracts where a car's resale value must be defined _a priori_ with greater information, or determine if a car is overvalued or undervalued with respect to the market.\n",
    "\n",
    "My data source is [Mercado Livre](www.mercadolivre.com.br), a widely used e-commerce platform in Brazil. For simplicity, and also to isolate other geographical factors that affect prices, this research restricts to ads in the city of Porto Alegre/RS. I also excluded trucks and minivans from the analysis. While new cars can be announced, most of the cars advertised are used. To publish an ad, the seller must fill information about the car, such as brand, model, mileage, engine power and additional features. It is a common belief that this features can help predict a car's asking price in the market, and in our methodology I will explore them to improve our predictions (of course, there also will be unobservable factors that affect prices). A popular source for automobile prices in Brazil is the [FIPE table](http://www.veiculos.fipe.org.br/). In the table, average prices are calculated from newspaper and web ads. Data from the FIPE table can be improved here, as learning models can benefit from data updates, predict prices for cars with a specific set of features and location.\n",
    "\n",
    "Along the notebook, I will go through all steps of data analysis, with code and commentary."
   ]
  },
  {
   "cell_type": "markdown",
   "metadata": {},
   "source": [
    "# Data wrangling\n",
    "\n",
    "First, let's import the required packages for this step:"
   ]
  },
  {
   "cell_type": "code",
   "execution_count": 1,
   "metadata": {},
   "outputs": [],
   "source": [
    "import pandas as pd\n",
    "import matplotlib.pyplot as plt\n",
    "import seaborn as sns\n",
    "sns.set()\n",
    "\n",
    "import numpy as np\n",
    "import json\n",
    "import requests\n",
    "\n",
    "# API token\n",
    "from kaggle_secrets import UserSecretsClient\n",
    "secret_label = \"mltoken\"\n",
    "token = UserSecretsClient().get_secret(secret_label)"
   ]
  },
  {
   "cell_type": "markdown",
   "metadata": {},
   "source": [
    "To access data on ads, I'll make requests to the MercadoLivre's API. We must build the query URL, using category and location identifiers that can be found in the API [documentation site](http://developers.mercadolivre.com.br/)."
   ]
  },
  {
   "cell_type": "code",
   "execution_count": 2,
   "metadata": {},
   "outputs": [],
   "source": [
    "# parameters\n",
    "category = 'MLB1744' # cars and trucks\n",
    "city     = 'TUxCUFJJT0xkYzM0' # state of rs\n",
    "limit    = '50'\n",
    "offset   = [str(i) for i in list(range(50,10000,50))]"
   ]
  },
  {
   "cell_type": "markdown",
   "metadata": {},
   "source": [
    "Users are only allowed to fetch 50 items per request - up to 10000 items - and this is controlled by the `offset` parameter. Using `requests`, we can download all data:"
   ]
  },
  {
   "cell_type": "code",
   "execution_count": 3,
   "metadata": {},
   "outputs": [],
   "source": [
    "responses = []\n",
    "for off in offset:\n",
    "    url = 'https://api.mercadolibre.com/sites/MLB/search?category='+category+'&state='+city+'&limit='+limit+'&offset='+off+'&access_token='+token\n",
    "    #print(url)\n",
    "    responses.append(requests.get(url))\n",
    "\n",
    "respd = [i.json() for i in responses]"
   ]
  },
  {
   "cell_type": "markdown",
   "metadata": {},
   "source": [
    "The `.json` method transforms the data into a Python dictionary. Looking at the structure of data, I find that ad entries are stored under key `results`:"
   ]
  },
  {
   "cell_type": "code",
   "execution_count": 4,
   "metadata": {},
   "outputs": [
    {
     "data": {
      "text/plain": [
       "dict_keys(['site_id', 'paging', 'results', 'secondary_results', 'related_results', 'sort', 'available_sorts', 'filters', 'available_filters'])"
      ]
     },
     "execution_count": 4,
     "metadata": {},
     "output_type": "execute_result"
    }
   ],
   "source": [
    "respd[0].keys()"
   ]
  },
  {
   "cell_type": "code",
   "execution_count": 5,
   "metadata": {},
   "outputs": [],
   "source": [
    "# tests\n",
    "data1 = [pd.io.json.json_normalize(i['results'], sep='_') for i in respd]"
   ]
  },
  {
   "cell_type": "markdown",
   "metadata": {},
   "source": [
    "The result is a list of pandas DataFrames. We can append all datasets using `concat`:"
   ]
  },
  {
   "cell_type": "code",
   "execution_count": 6,
   "metadata": {},
   "outputs": [
    {
     "data": {
      "text/html": [
       "<div>\n",
       "<style scoped>\n",
       "    .dataframe tbody tr th:only-of-type {\n",
       "        vertical-align: middle;\n",
       "    }\n",
       "\n",
       "    .dataframe tbody tr th {\n",
       "        vertical-align: top;\n",
       "    }\n",
       "\n",
       "    .dataframe thead th {\n",
       "        text-align: right;\n",
       "    }\n",
       "</style>\n",
       "<table border=\"1\" class=\"dataframe\">\n",
       "  <thead>\n",
       "    <tr style=\"text-align: right;\">\n",
       "      <th></th>\n",
       "      <th>id</th>\n",
       "      <th>site_id</th>\n",
       "      <th>title</th>\n",
       "      <th>price</th>\n",
       "      <th>currency_id</th>\n",
       "      <th>available_quantity</th>\n",
       "      <th>sold_quantity</th>\n",
       "      <th>buying_mode</th>\n",
       "      <th>listing_type_id</th>\n",
       "      <th>stop_time</th>\n",
       "      <th>...</th>\n",
       "      <th>seller_address_city</th>\n",
       "      <th>seller_eshop_nick_name</th>\n",
       "      <th>seller_eshop_eshop_rubro</th>\n",
       "      <th>seller_eshop_eshop_id</th>\n",
       "      <th>seller_eshop_eshop_locations</th>\n",
       "      <th>seller_eshop_site_id</th>\n",
       "      <th>seller_eshop_eshop_logo_url</th>\n",
       "      <th>seller_eshop_eshop_status_id</th>\n",
       "      <th>seller_eshop_seller</th>\n",
       "      <th>seller_eshop_eshop_experience</th>\n",
       "    </tr>\n",
       "  </thead>\n",
       "  <tbody>\n",
       "    <tr>\n",
       "      <th>0</th>\n",
       "      <td>MLB1407588422</td>\n",
       "      <td>MLB</td>\n",
       "      <td>Fiat Mobi 1.0 8v Evo Flex Easy Manual</td>\n",
       "      <td>25990</td>\n",
       "      <td>BRL</td>\n",
       "      <td>1</td>\n",
       "      <td>0</td>\n",
       "      <td>classified</td>\n",
       "      <td>gold_premium</td>\n",
       "      <td>2020-01-27T04:00:00.000Z</td>\n",
       "      <td>...</td>\n",
       "      <td>NaN</td>\n",
       "      <td>NaN</td>\n",
       "      <td>NaN</td>\n",
       "      <td>NaN</td>\n",
       "      <td>NaN</td>\n",
       "      <td>NaN</td>\n",
       "      <td>NaN</td>\n",
       "      <td>NaN</td>\n",
       "      <td>NaN</td>\n",
       "      <td>NaN</td>\n",
       "    </tr>\n",
       "    <tr>\n",
       "      <th>1</th>\n",
       "      <td>MLB1406096929</td>\n",
       "      <td>MLB</td>\n",
       "      <td>Fiat Fiorino 1.4 Mpi Furgão Hard Working 8v Fl...</td>\n",
       "      <td>47890</td>\n",
       "      <td>BRL</td>\n",
       "      <td>1</td>\n",
       "      <td>0</td>\n",
       "      <td>classified</td>\n",
       "      <td>gold_premium</td>\n",
       "      <td>2020-01-27T04:00:00.000Z</td>\n",
       "      <td>...</td>\n",
       "      <td>NaN</td>\n",
       "      <td>NaN</td>\n",
       "      <td>NaN</td>\n",
       "      <td>NaN</td>\n",
       "      <td>NaN</td>\n",
       "      <td>NaN</td>\n",
       "      <td>NaN</td>\n",
       "      <td>NaN</td>\n",
       "      <td>NaN</td>\n",
       "      <td>NaN</td>\n",
       "    </tr>\n",
       "    <tr>\n",
       "      <th>2</th>\n",
       "      <td>MLB1401139446</td>\n",
       "      <td>MLB</td>\n",
       "      <td>Ford Ka 1.5 Se 16v Flex 4p Manual</td>\n",
       "      <td>37990</td>\n",
       "      <td>BRL</td>\n",
       "      <td>1</td>\n",
       "      <td>0</td>\n",
       "      <td>classified</td>\n",
       "      <td>gold_premium</td>\n",
       "      <td>2020-01-27T04:00:00.000Z</td>\n",
       "      <td>...</td>\n",
       "      <td>NaN</td>\n",
       "      <td>NaN</td>\n",
       "      <td>NaN</td>\n",
       "      <td>NaN</td>\n",
       "      <td>NaN</td>\n",
       "      <td>NaN</td>\n",
       "      <td>NaN</td>\n",
       "      <td>NaN</td>\n",
       "      <td>NaN</td>\n",
       "      <td>NaN</td>\n",
       "    </tr>\n",
       "    <tr>\n",
       "      <th>3</th>\n",
       "      <td>MLB1400452685</td>\n",
       "      <td>MLB</td>\n",
       "      <td>Chevrolet Onix 1.0 Mpfi Joy 8v Flex 4p Manual</td>\n",
       "      <td>36490</td>\n",
       "      <td>BRL</td>\n",
       "      <td>1</td>\n",
       "      <td>0</td>\n",
       "      <td>classified</td>\n",
       "      <td>gold_premium</td>\n",
       "      <td>2020-02-21T09:15:24.000Z</td>\n",
       "      <td>...</td>\n",
       "      <td>NaN</td>\n",
       "      <td>NaN</td>\n",
       "      <td>NaN</td>\n",
       "      <td>NaN</td>\n",
       "      <td>NaN</td>\n",
       "      <td>NaN</td>\n",
       "      <td>NaN</td>\n",
       "      <td>NaN</td>\n",
       "      <td>NaN</td>\n",
       "      <td>NaN</td>\n",
       "    </tr>\n",
       "    <tr>\n",
       "      <th>4</th>\n",
       "      <td>MLB1399889465</td>\n",
       "      <td>MLB</td>\n",
       "      <td>Ford Ka + 1.5 Se 16v Flex 4p Manual</td>\n",
       "      <td>41490</td>\n",
       "      <td>BRL</td>\n",
       "      <td>1</td>\n",
       "      <td>0</td>\n",
       "      <td>classified</td>\n",
       "      <td>gold_premium</td>\n",
       "      <td>2020-02-21T09:15:24.000Z</td>\n",
       "      <td>...</td>\n",
       "      <td>NaN</td>\n",
       "      <td>NaN</td>\n",
       "      <td>NaN</td>\n",
       "      <td>NaN</td>\n",
       "      <td>NaN</td>\n",
       "      <td>NaN</td>\n",
       "      <td>NaN</td>\n",
       "      <td>NaN</td>\n",
       "      <td>NaN</td>\n",
       "      <td>NaN</td>\n",
       "    </tr>\n",
       "  </tbody>\n",
       "</table>\n",
       "<p>5 rows × 84 columns</p>\n",
       "</div>"
      ],
      "text/plain": [
       "              id site_id                                              title  \\\n",
       "0  MLB1407588422     MLB              Fiat Mobi 1.0 8v Evo Flex Easy Manual   \n",
       "1  MLB1406096929     MLB  Fiat Fiorino 1.4 Mpi Furgão Hard Working 8v Fl...   \n",
       "2  MLB1401139446     MLB                  Ford Ka 1.5 Se 16v Flex 4p Manual   \n",
       "3  MLB1400452685     MLB      Chevrolet Onix 1.0 Mpfi Joy 8v Flex 4p Manual   \n",
       "4  MLB1399889465     MLB                Ford Ka + 1.5 Se 16v Flex 4p Manual   \n",
       "\n",
       "   price currency_id  available_quantity  sold_quantity buying_mode  \\\n",
       "0  25990         BRL                   1              0  classified   \n",
       "1  47890         BRL                   1              0  classified   \n",
       "2  37990         BRL                   1              0  classified   \n",
       "3  36490         BRL                   1              0  classified   \n",
       "4  41490         BRL                   1              0  classified   \n",
       "\n",
       "  listing_type_id                 stop_time  ... seller_address_city  \\\n",
       "0    gold_premium  2020-01-27T04:00:00.000Z  ...                 NaN   \n",
       "1    gold_premium  2020-01-27T04:00:00.000Z  ...                 NaN   \n",
       "2    gold_premium  2020-01-27T04:00:00.000Z  ...                 NaN   \n",
       "3    gold_premium  2020-02-21T09:15:24.000Z  ...                 NaN   \n",
       "4    gold_premium  2020-02-21T09:15:24.000Z  ...                 NaN   \n",
       "\n",
       "  seller_eshop_nick_name seller_eshop_eshop_rubro  seller_eshop_eshop_id  \\\n",
       "0                    NaN                      NaN                    NaN   \n",
       "1                    NaN                      NaN                    NaN   \n",
       "2                    NaN                      NaN                    NaN   \n",
       "3                    NaN                      NaN                    NaN   \n",
       "4                    NaN                      NaN                    NaN   \n",
       "\n",
       "  seller_eshop_eshop_locations seller_eshop_site_id  \\\n",
       "0                          NaN                  NaN   \n",
       "1                          NaN                  NaN   \n",
       "2                          NaN                  NaN   \n",
       "3                          NaN                  NaN   \n",
       "4                          NaN                  NaN   \n",
       "\n",
       "  seller_eshop_eshop_logo_url seller_eshop_eshop_status_id  \\\n",
       "0                         NaN                          NaN   \n",
       "1                         NaN                          NaN   \n",
       "2                         NaN                          NaN   \n",
       "3                         NaN                          NaN   \n",
       "4                         NaN                          NaN   \n",
       "\n",
       "  seller_eshop_seller seller_eshop_eshop_experience  \n",
       "0                 NaN                           NaN  \n",
       "1                 NaN                           NaN  \n",
       "2                 NaN                           NaN  \n",
       "3                 NaN                           NaN  \n",
       "4                 NaN                           NaN  \n",
       "\n",
       "[5 rows x 84 columns]"
      ]
     },
     "execution_count": 6,
     "metadata": {},
     "output_type": "execute_result"
    }
   ],
   "source": [
    "data1 = pd.concat(data1, sort=False).reset_index(drop=True)\n",
    "data1.head()"
   ]
  },
  {
   "cell_type": "markdown",
   "metadata": {},
   "source": [
    "In each entry, we have a series of characteristics on the car, such as make, model, asking price, features and location. Next, I will transform the data into a pandas DataFrame for further manipulation. This requires a few steps, as the data is structured in a list of dicts:"
   ]
  },
  {
   "cell_type": "code",
   "execution_count": 7,
   "metadata": {},
   "outputs": [
    {
     "data": {
      "text/html": [
       "<div>\n",
       "<style scoped>\n",
       "    .dataframe tbody tr th:only-of-type {\n",
       "        vertical-align: middle;\n",
       "    }\n",
       "\n",
       "    .dataframe tbody tr th {\n",
       "        vertical-align: top;\n",
       "    }\n",
       "\n",
       "    .dataframe thead th {\n",
       "        text-align: right;\n",
       "    }\n",
       "</style>\n",
       "<table border=\"1\" class=\"dataframe\">\n",
       "  <thead>\n",
       "    <tr style=\"text-align: right;\">\n",
       "      <th></th>\n",
       "      <th>title</th>\n",
       "      <th>price</th>\n",
       "      <th>address_city_name</th>\n",
       "      <th>attributes</th>\n",
       "      <th>id</th>\n",
       "      <th>location_latitude</th>\n",
       "      <th>location_longitude</th>\n",
       "      <th>permalink</th>\n",
       "      <th>seller_car_dealer</th>\n",
       "    </tr>\n",
       "  </thead>\n",
       "  <tbody>\n",
       "    <tr>\n",
       "      <th>0</th>\n",
       "      <td>Fiat Mobi 1.0 8v Evo Flex Easy Manual</td>\n",
       "      <td>25990</td>\n",
       "      <td>Caxias do Sul</td>\n",
       "      <td>[{'name': 'Condição do item', 'value_name': 'U...</td>\n",
       "      <td>MLB1407588422</td>\n",
       "      <td>-29.147295</td>\n",
       "      <td>-51.161154</td>\n",
       "      <td>https://carro.mercadolivre.com.br/MLB-14075884...</td>\n",
       "      <td>True</td>\n",
       "    </tr>\n",
       "    <tr>\n",
       "      <th>1</th>\n",
       "      <td>Fiat Fiorino 1.4 Mpi Furgão Hard Working 8v Fl...</td>\n",
       "      <td>47890</td>\n",
       "      <td>Caxias do Sul</td>\n",
       "      <td>[{'id': 'ITEM_CONDITION', 'name': 'Condição do...</td>\n",
       "      <td>MLB1406096929</td>\n",
       "      <td>-29.147295</td>\n",
       "      <td>-51.161154</td>\n",
       "      <td>https://carro.mercadolivre.com.br/MLB-14060969...</td>\n",
       "      <td>True</td>\n",
       "    </tr>\n",
       "    <tr>\n",
       "      <th>2</th>\n",
       "      <td>Ford Ka 1.5 Se 16v Flex 4p Manual</td>\n",
       "      <td>37990</td>\n",
       "      <td>Caxias do Sul</td>\n",
       "      <td>[{'attribute_group_name': '', 'name': 'Condiçã...</td>\n",
       "      <td>MLB1401139446</td>\n",
       "      <td>-29.147295</td>\n",
       "      <td>-51.161154</td>\n",
       "      <td>https://carro.mercadolivre.com.br/MLB-14011394...</td>\n",
       "      <td>True</td>\n",
       "    </tr>\n",
       "    <tr>\n",
       "      <th>3</th>\n",
       "      <td>Chevrolet Onix 1.0 Mpfi Joy 8v Flex 4p Manual</td>\n",
       "      <td>36490</td>\n",
       "      <td>Porto Alegre</td>\n",
       "      <td>[{'name': 'Condição do item', 'value_id': '223...</td>\n",
       "      <td>MLB1400452685</td>\n",
       "      <td>-29.999978</td>\n",
       "      <td>-51.198601</td>\n",
       "      <td>https://carro.mercadolivre.com.br/MLB-14004526...</td>\n",
       "      <td>True</td>\n",
       "    </tr>\n",
       "    <tr>\n",
       "      <th>4</th>\n",
       "      <td>Ford Ka + 1.5 Se 16v Flex 4p Manual</td>\n",
       "      <td>41490</td>\n",
       "      <td>Porto Alegre</td>\n",
       "      <td>[{'id': 'ITEM_CONDITION', 'value_id': '2230581...</td>\n",
       "      <td>MLB1399889465</td>\n",
       "      <td>-29.999978</td>\n",
       "      <td>-51.198601</td>\n",
       "      <td>https://carro.mercadolivre.com.br/MLB-13998894...</td>\n",
       "      <td>True</td>\n",
       "    </tr>\n",
       "  </tbody>\n",
       "</table>\n",
       "</div>"
      ],
      "text/plain": [
       "                                               title  price address_city_name  \\\n",
       "0              Fiat Mobi 1.0 8v Evo Flex Easy Manual  25990     Caxias do Sul   \n",
       "1  Fiat Fiorino 1.4 Mpi Furgão Hard Working 8v Fl...  47890     Caxias do Sul   \n",
       "2                  Ford Ka 1.5 Se 16v Flex 4p Manual  37990     Caxias do Sul   \n",
       "3      Chevrolet Onix 1.0 Mpfi Joy 8v Flex 4p Manual  36490      Porto Alegre   \n",
       "4                Ford Ka + 1.5 Se 16v Flex 4p Manual  41490      Porto Alegre   \n",
       "\n",
       "                                          attributes             id  \\\n",
       "0  [{'name': 'Condição do item', 'value_name': 'U...  MLB1407588422   \n",
       "1  [{'id': 'ITEM_CONDITION', 'name': 'Condição do...  MLB1406096929   \n",
       "2  [{'attribute_group_name': '', 'name': 'Condiçã...  MLB1401139446   \n",
       "3  [{'name': 'Condição do item', 'value_id': '223...  MLB1400452685   \n",
       "4  [{'id': 'ITEM_CONDITION', 'value_id': '2230581...  MLB1399889465   \n",
       "\n",
       "   location_latitude  location_longitude  \\\n",
       "0         -29.147295          -51.161154   \n",
       "1         -29.147295          -51.161154   \n",
       "2         -29.147295          -51.161154   \n",
       "3         -29.999978          -51.198601   \n",
       "4         -29.999978          -51.198601   \n",
       "\n",
       "                                           permalink  seller_car_dealer  \n",
       "0  https://carro.mercadolivre.com.br/MLB-14075884...               True  \n",
       "1  https://carro.mercadolivre.com.br/MLB-14060969...               True  \n",
       "2  https://carro.mercadolivre.com.br/MLB-14011394...               True  \n",
       "3  https://carro.mercadolivre.com.br/MLB-14004526...               True  \n",
       "4  https://carro.mercadolivre.com.br/MLB-13998894...               True  "
      ]
     },
     "execution_count": 7,
     "metadata": {},
     "output_type": "execute_result"
    }
   ],
   "source": [
    "cols = ['title','price','address_city_name','attributes', 'id',\n",
    "       'location_latitude', 'location_longitude',\n",
    "       'permalink',\n",
    "       'seller_car_dealer']\n",
    "\n",
    "data1 = data1.loc[:,cols]\n",
    "data1.head()"
   ]
  },
  {
   "cell_type": "markdown",
   "metadata": {},
   "source": [
    "It's a great step forward, however information on a car's attributes are still trapped in a list of dicts. Hence any attempts at using the previous `json_serialize` method will fail. As an example, let's apply the function to the feature alone:"
   ]
  },
  {
   "cell_type": "code",
   "execution_count": 8,
   "metadata": {},
   "outputs": [
    {
     "data": {
      "text/html": [
       "<div>\n",
       "<style scoped>\n",
       "    .dataframe tbody tr th:only-of-type {\n",
       "        vertical-align: middle;\n",
       "    }\n",
       "\n",
       "    .dataframe tbody tr th {\n",
       "        vertical-align: top;\n",
       "    }\n",
       "\n",
       "    .dataframe thead th {\n",
       "        text-align: right;\n",
       "    }\n",
       "</style>\n",
       "<table border=\"1\" class=\"dataframe\">\n",
       "  <thead>\n",
       "    <tr style=\"text-align: right;\">\n",
       "      <th></th>\n",
       "      <th>name</th>\n",
       "      <th>value_name</th>\n",
       "      <th>value_struct</th>\n",
       "      <th>attribute_group_id</th>\n",
       "      <th>id</th>\n",
       "      <th>value_id</th>\n",
       "      <th>values</th>\n",
       "      <th>attribute_group_name</th>\n",
       "      <th>source</th>\n",
       "      <th>value_struct_number</th>\n",
       "      <th>value_struct_unit</th>\n",
       "    </tr>\n",
       "  </thead>\n",
       "  <tbody>\n",
       "    <tr>\n",
       "      <th>0</th>\n",
       "      <td>Condição do item</td>\n",
       "      <td>Usado</td>\n",
       "      <td>NaN</td>\n",
       "      <td></td>\n",
       "      <td>ITEM_CONDITION</td>\n",
       "      <td>2230581</td>\n",
       "      <td>[{'id': '2230581', 'name': 'Usado', 'struct': ...</td>\n",
       "      <td></td>\n",
       "      <td>1</td>\n",
       "      <td>NaN</td>\n",
       "      <td>NaN</td>\n",
       "    </tr>\n",
       "    <tr>\n",
       "      <th>1</th>\n",
       "      <td>Transmissão</td>\n",
       "      <td>Manual</td>\n",
       "      <td>NaN</td>\n",
       "      <td>ADICIONALES</td>\n",
       "      <td>TRANSMISSION</td>\n",
       "      <td>370877</td>\n",
       "      <td>[{'id': '370877', 'name': 'Manual', 'struct': ...</td>\n",
       "      <td>Adicionais</td>\n",
       "      <td>7810940008532</td>\n",
       "      <td>NaN</td>\n",
       "      <td>NaN</td>\n",
       "    </tr>\n",
       "    <tr>\n",
       "      <th>2</th>\n",
       "      <td>Marca</td>\n",
       "      <td>Fiat</td>\n",
       "      <td>NaN</td>\n",
       "      <td>FIND</td>\n",
       "      <td>BRAND</td>\n",
       "      <td>67781</td>\n",
       "      <td>[{'struct': None, 'source': 1, 'id': '67781', ...</td>\n",
       "      <td>Ficha técnica</td>\n",
       "      <td>1</td>\n",
       "      <td>NaN</td>\n",
       "      <td>NaN</td>\n",
       "    </tr>\n",
       "    <tr>\n",
       "      <th>3</th>\n",
       "      <td>Portas</td>\n",
       "      <td>4</td>\n",
       "      <td>NaN</td>\n",
       "      <td>FIND</td>\n",
       "      <td>DOORS</td>\n",
       "      <td>None</td>\n",
       "      <td>[{'id': None, 'name': '4', 'struct': None, 'so...</td>\n",
       "      <td>Ficha técnica</td>\n",
       "      <td>7810940008532</td>\n",
       "      <td>NaN</td>\n",
       "      <td>NaN</td>\n",
       "    </tr>\n",
       "    <tr>\n",
       "      <th>4</th>\n",
       "      <td>Tipo de combustível</td>\n",
       "      <td>Gasolina e álcool</td>\n",
       "      <td>NaN</td>\n",
       "      <td>FIND</td>\n",
       "      <td>FUEL_TYPE</td>\n",
       "      <td>372591</td>\n",
       "      <td>[{'id': '372591', 'name': 'Gasolina e álcool',...</td>\n",
       "      <td>Ficha técnica</td>\n",
       "      <td>7810940008532</td>\n",
       "      <td>NaN</td>\n",
       "      <td>NaN</td>\n",
       "    </tr>\n",
       "  </tbody>\n",
       "</table>\n",
       "</div>"
      ],
      "text/plain": [
       "                  name         value_name  value_struct attribute_group_id  \\\n",
       "0     Condição do item              Usado           NaN                      \n",
       "1          Transmissão             Manual           NaN        ADICIONALES   \n",
       "2                Marca               Fiat           NaN               FIND   \n",
       "3               Portas                  4           NaN               FIND   \n",
       "4  Tipo de combustível  Gasolina e álcool           NaN               FIND   \n",
       "\n",
       "               id value_id                                             values  \\\n",
       "0  ITEM_CONDITION  2230581  [{'id': '2230581', 'name': 'Usado', 'struct': ...   \n",
       "1    TRANSMISSION   370877  [{'id': '370877', 'name': 'Manual', 'struct': ...   \n",
       "2           BRAND    67781  [{'struct': None, 'source': 1, 'id': '67781', ...   \n",
       "3           DOORS     None  [{'id': None, 'name': '4', 'struct': None, 'so...   \n",
       "4       FUEL_TYPE   372591  [{'id': '372591', 'name': 'Gasolina e álcool',...   \n",
       "\n",
       "  attribute_group_name         source  value_struct_number value_struct_unit  \n",
       "0                                   1                  NaN               NaN  \n",
       "1           Adicionais  7810940008532                  NaN               NaN  \n",
       "2        Ficha técnica              1                  NaN               NaN  \n",
       "3        Ficha técnica  7810940008532                  NaN               NaN  \n",
       "4        Ficha técnica  7810940008532                  NaN               NaN  "
      ]
     },
     "execution_count": 8,
     "metadata": {},
     "output_type": "execute_result"
    }
   ],
   "source": [
    "pd.io.json.json_normalize(data1.attributes[0], sep='_').head()"
   ]
  },
  {
   "cell_type": "markdown",
   "metadata": {},
   "source": [
    "Now, I will reshape the data in order to have a single row per advertising. Let's define a helper function:"
   ]
  },
  {
   "cell_type": "code",
   "execution_count": 9,
   "metadata": {},
   "outputs": [],
   "source": [
    "def reshape_(data):\n",
    "    return data.loc[:,['id','value_name']].set_index('id').transpose()"
   ]
  },
  {
   "cell_type": "markdown",
   "metadata": {},
   "source": [
    "We must now loop over samples and then join all data. _For_ loops can be avoided, using Python's list comprehensions:"
   ]
  },
  {
   "cell_type": "code",
   "execution_count": 10,
   "metadata": {},
   "outputs": [
    {
     "data": {
      "text/html": [
       "<div>\n",
       "<style scoped>\n",
       "    .dataframe tbody tr th:only-of-type {\n",
       "        vertical-align: middle;\n",
       "    }\n",
       "\n",
       "    .dataframe tbody tr th {\n",
       "        vertical-align: top;\n",
       "    }\n",
       "\n",
       "    .dataframe thead th {\n",
       "        text-align: right;\n",
       "    }\n",
       "</style>\n",
       "<table border=\"1\" class=\"dataframe\">\n",
       "  <thead>\n",
       "    <tr style=\"text-align: right;\">\n",
       "      <th></th>\n",
       "      <th>ITEM_CONDITION</th>\n",
       "      <th>TRANSMISSION</th>\n",
       "      <th>BRAND</th>\n",
       "      <th>DOORS</th>\n",
       "      <th>FUEL_TYPE</th>\n",
       "      <th>KILOMETERS</th>\n",
       "      <th>MODEL</th>\n",
       "      <th>TRIM</th>\n",
       "      <th>VEHICLE_YEAR</th>\n",
       "      <th>TRACTION_CONTROL</th>\n",
       "      <th>ENGINE_DISPLACEMENT</th>\n",
       "    </tr>\n",
       "  </thead>\n",
       "  <tbody>\n",
       "    <tr>\n",
       "      <th>9942</th>\n",
       "      <td>Usado</td>\n",
       "      <td>Automática</td>\n",
       "      <td>Land Rover</td>\n",
       "      <td>4</td>\n",
       "      <td>Gasolina</td>\n",
       "      <td>61000 km</td>\n",
       "      <td>Range Rover</td>\n",
       "      <td>EVOQUE PRESTIGE TECH</td>\n",
       "      <td>2013</td>\n",
       "      <td>NaN</td>\n",
       "      <td>NaN</td>\n",
       "    </tr>\n",
       "    <tr>\n",
       "      <th>9943</th>\n",
       "      <td>Usado</td>\n",
       "      <td>Manual</td>\n",
       "      <td>Ford</td>\n",
       "      <td>4</td>\n",
       "      <td>Gasolina e álcool</td>\n",
       "      <td>132 km</td>\n",
       "      <td>Focus Sedan</td>\n",
       "      <td>2.0 16V Flex 5p</td>\n",
       "      <td>2013</td>\n",
       "      <td>NaN</td>\n",
       "      <td>NaN</td>\n",
       "    </tr>\n",
       "    <tr>\n",
       "      <th>9944</th>\n",
       "      <td>Usado</td>\n",
       "      <td>Automática</td>\n",
       "      <td>Hyundai</td>\n",
       "      <td>4</td>\n",
       "      <td>Gasolina</td>\n",
       "      <td>97000 km</td>\n",
       "      <td>i30</td>\n",
       "      <td>2.0 16V 145cv Aut. ** Bancos Couro **</td>\n",
       "      <td>2011</td>\n",
       "      <td>NaN</td>\n",
       "      <td>NaN</td>\n",
       "    </tr>\n",
       "    <tr>\n",
       "      <th>9945</th>\n",
       "      <td>Usado</td>\n",
       "      <td>Manual</td>\n",
       "      <td>Geely</td>\n",
       "      <td>4</td>\n",
       "      <td>Gasolina</td>\n",
       "      <td>34000 km</td>\n",
       "      <td>GC2</td>\n",
       "      <td>GL 1.0 CVVT 12V 68cv 5p</td>\n",
       "      <td>2015</td>\n",
       "      <td>NaN</td>\n",
       "      <td>NaN</td>\n",
       "    </tr>\n",
       "    <tr>\n",
       "      <th>9946</th>\n",
       "      <td>Usado</td>\n",
       "      <td>Manual</td>\n",
       "      <td>Renault</td>\n",
       "      <td>4</td>\n",
       "      <td>Gasolina e álcool</td>\n",
       "      <td>82000 km</td>\n",
       "      <td>Megane</td>\n",
       "      <td>1.6 DYNAMIQUE GRAND TOUR 16V FLEX 4P MANUAL</td>\n",
       "      <td>2012</td>\n",
       "      <td>NaN</td>\n",
       "      <td>NaN</td>\n",
       "    </tr>\n",
       "  </tbody>\n",
       "</table>\n",
       "</div>"
      ],
      "text/plain": [
       "     ITEM_CONDITION TRANSMISSION       BRAND DOORS          FUEL_TYPE  \\\n",
       "9942          Usado   Automática  Land Rover     4           Gasolina   \n",
       "9943          Usado       Manual        Ford     4  Gasolina e álcool   \n",
       "9944          Usado   Automática     Hyundai     4           Gasolina   \n",
       "9945          Usado       Manual       Geely     4           Gasolina   \n",
       "9946          Usado       Manual     Renault     4  Gasolina e álcool   \n",
       "\n",
       "     KILOMETERS        MODEL                                         TRIM  \\\n",
       "9942   61000 km  Range Rover                         EVOQUE PRESTIGE TECH   \n",
       "9943     132 km  Focus Sedan                              2.0 16V Flex 5p   \n",
       "9944   97000 km          i30        2.0 16V 145cv Aut. ** Bancos Couro **   \n",
       "9945   34000 km          GC2                      GL 1.0 CVVT 12V 68cv 5p   \n",
       "9946   82000 km       Megane  1.6 DYNAMIQUE GRAND TOUR 16V FLEX 4P MANUAL   \n",
       "\n",
       "     VEHICLE_YEAR TRACTION_CONTROL ENGINE_DISPLACEMENT  \n",
       "9942         2013              NaN                 NaN  \n",
       "9943         2013              NaN                 NaN  \n",
       "9944         2011              NaN                 NaN  \n",
       "9945         2015              NaN                 NaN  \n",
       "9946         2012              NaN                 NaN  "
      ]
     },
     "execution_count": 10,
     "metadata": {},
     "output_type": "execute_result"
    }
   ],
   "source": [
    "df_temp = [reshape_(pd.io.json.json_normalize(i)) for i in data1.attributes]\n",
    "\n",
    "data2 = pd.concat(df_temp, sort=False).reset_index(drop=True)\n",
    "del df_temp\n",
    "data2.tail()"
   ]
  },
  {
   "cell_type": "markdown",
   "metadata": {},
   "source": [
    "Finally, we'll merge with the original data:"
   ]
  },
  {
   "cell_type": "code",
   "execution_count": 11,
   "metadata": {},
   "outputs": [],
   "source": [
    "df = pd.concat([data1,data2], axis=1)"
   ]
  },
  {
   "cell_type": "code",
   "execution_count": 12,
   "metadata": {},
   "outputs": [
    {
     "data": {
      "text/html": [
       "<div>\n",
       "<style scoped>\n",
       "    .dataframe tbody tr th:only-of-type {\n",
       "        vertical-align: middle;\n",
       "    }\n",
       "\n",
       "    .dataframe tbody tr th {\n",
       "        vertical-align: top;\n",
       "    }\n",
       "\n",
       "    .dataframe thead th {\n",
       "        text-align: right;\n",
       "    }\n",
       "</style>\n",
       "<table border=\"1\" class=\"dataframe\">\n",
       "  <thead>\n",
       "    <tr style=\"text-align: right;\">\n",
       "      <th></th>\n",
       "      <th>title</th>\n",
       "      <th>price</th>\n",
       "      <th>address_city_name</th>\n",
       "      <th>attributes</th>\n",
       "      <th>id</th>\n",
       "      <th>location_latitude</th>\n",
       "      <th>location_longitude</th>\n",
       "      <th>permalink</th>\n",
       "      <th>seller_car_dealer</th>\n",
       "      <th>ITEM_CONDITION</th>\n",
       "      <th>TRANSMISSION</th>\n",
       "      <th>BRAND</th>\n",
       "      <th>DOORS</th>\n",
       "      <th>FUEL_TYPE</th>\n",
       "      <th>KILOMETERS</th>\n",
       "      <th>MODEL</th>\n",
       "      <th>TRIM</th>\n",
       "      <th>VEHICLE_YEAR</th>\n",
       "      <th>TRACTION_CONTROL</th>\n",
       "      <th>ENGINE_DISPLACEMENT</th>\n",
       "    </tr>\n",
       "  </thead>\n",
       "  <tbody>\n",
       "    <tr>\n",
       "      <th>0</th>\n",
       "      <td>Fiat Mobi 1.0 8v Evo Flex Easy Manual</td>\n",
       "      <td>25990</td>\n",
       "      <td>Caxias do Sul</td>\n",
       "      <td>[{'name': 'Condição do item', 'value_name': 'U...</td>\n",
       "      <td>MLB1407588422</td>\n",
       "      <td>-29.147295</td>\n",
       "      <td>-51.161154</td>\n",
       "      <td>https://carro.mercadolivre.com.br/MLB-14075884...</td>\n",
       "      <td>True</td>\n",
       "      <td>Usado</td>\n",
       "      <td>Manual</td>\n",
       "      <td>Fiat</td>\n",
       "      <td>4</td>\n",
       "      <td>Gasolina e álcool</td>\n",
       "      <td>38593 km</td>\n",
       "      <td>Mobi</td>\n",
       "      <td>1.0 8V EVO FLEX EASY MANUAL</td>\n",
       "      <td>2018</td>\n",
       "      <td>NaN</td>\n",
       "      <td>NaN</td>\n",
       "    </tr>\n",
       "    <tr>\n",
       "      <th>1</th>\n",
       "      <td>Fiat Fiorino 1.4 Mpi Furgão Hard Working 8v Fl...</td>\n",
       "      <td>47890</td>\n",
       "      <td>Caxias do Sul</td>\n",
       "      <td>[{'id': 'ITEM_CONDITION', 'name': 'Condição do...</td>\n",
       "      <td>MLB1406096929</td>\n",
       "      <td>-29.147295</td>\n",
       "      <td>-51.161154</td>\n",
       "      <td>https://carro.mercadolivre.com.br/MLB-14060969...</td>\n",
       "      <td>True</td>\n",
       "      <td>Usado</td>\n",
       "      <td>Manual</td>\n",
       "      <td>Fiat</td>\n",
       "      <td>2</td>\n",
       "      <td>Gasolina e álcool</td>\n",
       "      <td>51233 km</td>\n",
       "      <td>Fiorino</td>\n",
       "      <td>1.4 MPI FURGÃO HARD WORKING 8V FLEX 2P MANUAL</td>\n",
       "      <td>2018</td>\n",
       "      <td>NaN</td>\n",
       "      <td>NaN</td>\n",
       "    </tr>\n",
       "    <tr>\n",
       "      <th>2</th>\n",
       "      <td>Ford Ka 1.5 Se 16v Flex 4p Manual</td>\n",
       "      <td>37990</td>\n",
       "      <td>Caxias do Sul</td>\n",
       "      <td>[{'attribute_group_name': '', 'name': 'Condiçã...</td>\n",
       "      <td>MLB1401139446</td>\n",
       "      <td>-29.147295</td>\n",
       "      <td>-51.161154</td>\n",
       "      <td>https://carro.mercadolivre.com.br/MLB-14011394...</td>\n",
       "      <td>True</td>\n",
       "      <td>Usado</td>\n",
       "      <td>Manual</td>\n",
       "      <td>Ford</td>\n",
       "      <td>4</td>\n",
       "      <td>Gasolina e álcool</td>\n",
       "      <td>46358 km</td>\n",
       "      <td>Ka</td>\n",
       "      <td>1.5 SE 16V FLEX 4P MANUAL</td>\n",
       "      <td>2018</td>\n",
       "      <td>NaN</td>\n",
       "      <td>NaN</td>\n",
       "    </tr>\n",
       "    <tr>\n",
       "      <th>3</th>\n",
       "      <td>Chevrolet Onix 1.0 Mpfi Joy 8v Flex 4p Manual</td>\n",
       "      <td>36490</td>\n",
       "      <td>Porto Alegre</td>\n",
       "      <td>[{'name': 'Condição do item', 'value_id': '223...</td>\n",
       "      <td>MLB1400452685</td>\n",
       "      <td>-29.999978</td>\n",
       "      <td>-51.198601</td>\n",
       "      <td>https://carro.mercadolivre.com.br/MLB-14004526...</td>\n",
       "      <td>True</td>\n",
       "      <td>Usado</td>\n",
       "      <td>Manual</td>\n",
       "      <td>Chevrolet</td>\n",
       "      <td>4</td>\n",
       "      <td>Gasolina e álcool</td>\n",
       "      <td>59605 km</td>\n",
       "      <td>Onix</td>\n",
       "      <td>1.0 MPFI JOY 8V FLEX 4P MANUAL</td>\n",
       "      <td>2018</td>\n",
       "      <td>NaN</td>\n",
       "      <td>NaN</td>\n",
       "    </tr>\n",
       "    <tr>\n",
       "      <th>4</th>\n",
       "      <td>Ford Ka + 1.5 Se 16v Flex 4p Manual</td>\n",
       "      <td>41490</td>\n",
       "      <td>Porto Alegre</td>\n",
       "      <td>[{'id': 'ITEM_CONDITION', 'value_id': '2230581...</td>\n",
       "      <td>MLB1399889465</td>\n",
       "      <td>-29.999978</td>\n",
       "      <td>-51.198601</td>\n",
       "      <td>https://carro.mercadolivre.com.br/MLB-13998894...</td>\n",
       "      <td>True</td>\n",
       "      <td>Usado</td>\n",
       "      <td>Manual</td>\n",
       "      <td>Ford</td>\n",
       "      <td>4</td>\n",
       "      <td>Gasolina e álcool</td>\n",
       "      <td>57818 km</td>\n",
       "      <td>Ka</td>\n",
       "      <td>1.5 SE 16V FLEX 4P MANUAL</td>\n",
       "      <td>2018</td>\n",
       "      <td>NaN</td>\n",
       "      <td>NaN</td>\n",
       "    </tr>\n",
       "  </tbody>\n",
       "</table>\n",
       "</div>"
      ],
      "text/plain": [
       "                                               title  price address_city_name  \\\n",
       "0              Fiat Mobi 1.0 8v Evo Flex Easy Manual  25990     Caxias do Sul   \n",
       "1  Fiat Fiorino 1.4 Mpi Furgão Hard Working 8v Fl...  47890     Caxias do Sul   \n",
       "2                  Ford Ka 1.5 Se 16v Flex 4p Manual  37990     Caxias do Sul   \n",
       "3      Chevrolet Onix 1.0 Mpfi Joy 8v Flex 4p Manual  36490      Porto Alegre   \n",
       "4                Ford Ka + 1.5 Se 16v Flex 4p Manual  41490      Porto Alegre   \n",
       "\n",
       "                                          attributes             id  \\\n",
       "0  [{'name': 'Condição do item', 'value_name': 'U...  MLB1407588422   \n",
       "1  [{'id': 'ITEM_CONDITION', 'name': 'Condição do...  MLB1406096929   \n",
       "2  [{'attribute_group_name': '', 'name': 'Condiçã...  MLB1401139446   \n",
       "3  [{'name': 'Condição do item', 'value_id': '223...  MLB1400452685   \n",
       "4  [{'id': 'ITEM_CONDITION', 'value_id': '2230581...  MLB1399889465   \n",
       "\n",
       "   location_latitude  location_longitude  \\\n",
       "0         -29.147295          -51.161154   \n",
       "1         -29.147295          -51.161154   \n",
       "2         -29.147295          -51.161154   \n",
       "3         -29.999978          -51.198601   \n",
       "4         -29.999978          -51.198601   \n",
       "\n",
       "                                           permalink  seller_car_dealer  \\\n",
       "0  https://carro.mercadolivre.com.br/MLB-14075884...               True   \n",
       "1  https://carro.mercadolivre.com.br/MLB-14060969...               True   \n",
       "2  https://carro.mercadolivre.com.br/MLB-14011394...               True   \n",
       "3  https://carro.mercadolivre.com.br/MLB-14004526...               True   \n",
       "4  https://carro.mercadolivre.com.br/MLB-13998894...               True   \n",
       "\n",
       "  ITEM_CONDITION TRANSMISSION      BRAND DOORS          FUEL_TYPE KILOMETERS  \\\n",
       "0          Usado       Manual       Fiat     4  Gasolina e álcool   38593 km   \n",
       "1          Usado       Manual       Fiat     2  Gasolina e álcool   51233 km   \n",
       "2          Usado       Manual       Ford     4  Gasolina e álcool   46358 km   \n",
       "3          Usado       Manual  Chevrolet     4  Gasolina e álcool   59605 km   \n",
       "4          Usado       Manual       Ford     4  Gasolina e álcool   57818 km   \n",
       "\n",
       "     MODEL                                           TRIM VEHICLE_YEAR  \\\n",
       "0     Mobi                    1.0 8V EVO FLEX EASY MANUAL         2018   \n",
       "1  Fiorino  1.4 MPI FURGÃO HARD WORKING 8V FLEX 2P MANUAL         2018   \n",
       "2       Ka                      1.5 SE 16V FLEX 4P MANUAL         2018   \n",
       "3     Onix                 1.0 MPFI JOY 8V FLEX 4P MANUAL         2018   \n",
       "4       Ka                      1.5 SE 16V FLEX 4P MANUAL         2018   \n",
       "\n",
       "  TRACTION_CONTROL ENGINE_DISPLACEMENT  \n",
       "0              NaN                 NaN  \n",
       "1              NaN                 NaN  \n",
       "2              NaN                 NaN  \n",
       "3              NaN                 NaN  \n",
       "4              NaN                 NaN  "
      ]
     },
     "execution_count": 12,
     "metadata": {},
     "output_type": "execute_result"
    }
   ],
   "source": [
    "df.head()"
   ]
  },
  {
   "cell_type": "markdown",
   "metadata": {},
   "source": [
    "Some more data cleaning, to deal with strings and data types:"
   ]
  },
  {
   "cell_type": "code",
   "execution_count": 13,
   "metadata": {},
   "outputs": [],
   "source": [
    "df.drop(['TRIM','ITEM_CONDITION','title','attributes','id','permalink'], axis=1, inplace=True)\n",
    "df.columns = map(str.lower, df.columns)\n",
    "\n",
    "#remove unwanted strings\n",
    "cols = ['location_latitude', 'location_longitude','engine_displacement','kilometers','vehicle_year','doors']\n",
    "df.loc[:,cols] = df.loc[:,cols].replace(regex=True,to_replace=r'\\D',value=r'')\n",
    "\n",
    "# replace empty strings with NaN\n",
    "df.replace({'':np.nan}, inplace=True)\n",
    "\n",
    "# set brand and model strings to lowercase\n",
    "df.brand = df.brand.str.lower()\n",
    "df.model = df.model.str.lower()"
   ]
  },
  {
   "cell_type": "code",
   "execution_count": 14,
   "metadata": {},
   "outputs": [
    {
     "data": {
      "text/plain": [
       "price                    int64\n",
       "address_city_name       object\n",
       "location_latitude      float64\n",
       "location_longitude     float64\n",
       "seller_car_dealer         bool\n",
       "transmission            object\n",
       "brand                   object\n",
       "doors                  float64\n",
       "fuel_type               object\n",
       "kilometers             float64\n",
       "model                   object\n",
       "vehicle_year           float64\n",
       "traction_control        object\n",
       "engine_displacement    float64\n",
       "dtype: object"
      ]
     },
     "execution_count": 14,
     "metadata": {},
     "output_type": "execute_result"
    }
   ],
   "source": [
    "# type conversion\n",
    "df = df.astype({'location_latitude':float, 'location_longitude':float,'engine_displacement':float,\n",
    "                'kilometers':float,'vehicle_year':float,'doors':float})\n",
    "\n",
    "df.dtypes"
   ]
  },
  {
   "cell_type": "markdown",
   "metadata": {},
   "source": [
    "Now, I will attempt to detect outliers in numerical features. We must note that some extreme values are not outliers (i.e. we will have feature `kilometers` set to zero for new cars). Outlier detection will generate missing values that must be treated later."
   ]
  },
  {
   "cell_type": "code",
   "execution_count": 15,
   "metadata": {},
   "outputs": [
    {
     "data": {
      "text/html": [
       "<div>\n",
       "<style scoped>\n",
       "    .dataframe tbody tr th:only-of-type {\n",
       "        vertical-align: middle;\n",
       "    }\n",
       "\n",
       "    .dataframe tbody tr th {\n",
       "        vertical-align: top;\n",
       "    }\n",
       "\n",
       "    .dataframe thead th {\n",
       "        text-align: right;\n",
       "    }\n",
       "</style>\n",
       "<table border=\"1\" class=\"dataframe\">\n",
       "  <thead>\n",
       "    <tr style=\"text-align: right;\">\n",
       "      <th></th>\n",
       "      <th>price</th>\n",
       "      <th>location_latitude</th>\n",
       "      <th>location_longitude</th>\n",
       "      <th>doors</th>\n",
       "      <th>kilometers</th>\n",
       "      <th>vehicle_year</th>\n",
       "      <th>engine_displacement</th>\n",
       "    </tr>\n",
       "  </thead>\n",
       "  <tbody>\n",
       "    <tr>\n",
       "      <th>count</th>\n",
       "      <td>9.947000e+03</td>\n",
       "      <td>9824.00</td>\n",
       "      <td>9824.00</td>\n",
       "      <td>9947.00</td>\n",
       "      <td>9.947000e+03</td>\n",
       "      <td>9947.00</td>\n",
       "      <td>3444.00</td>\n",
       "    </tr>\n",
       "    <tr>\n",
       "      <th>mean</th>\n",
       "      <td>2.372200e+05</td>\n",
       "      <td>-29.33</td>\n",
       "      <td>-51.14</td>\n",
       "      <td>3.97</td>\n",
       "      <td>2.989408e+05</td>\n",
       "      <td>2012.79</td>\n",
       "      <td>1852.32</td>\n",
       "    </tr>\n",
       "    <tr>\n",
       "      <th>std</th>\n",
       "      <td>1.148189e+07</td>\n",
       "      <td>5.35</td>\n",
       "      <td>4.12</td>\n",
       "      <td>0.77</td>\n",
       "      <td>1.422604e+07</td>\n",
       "      <td>5.32</td>\n",
       "      <td>4419.83</td>\n",
       "    </tr>\n",
       "    <tr>\n",
       "      <th>min</th>\n",
       "      <td>1.000000e+01</td>\n",
       "      <td>-33.69</td>\n",
       "      <td>-119.42</td>\n",
       "      <td>0.00</td>\n",
       "      <td>0.000000e+00</td>\n",
       "      <td>1963.00</td>\n",
       "      <td>1.00</td>\n",
       "    </tr>\n",
       "    <tr>\n",
       "      <th>25%</th>\n",
       "      <td>2.790000e+04</td>\n",
       "      <td>-30.03</td>\n",
       "      <td>-51.22</td>\n",
       "      <td>4.00</td>\n",
       "      <td>3.193750e+04</td>\n",
       "      <td>2011.00</td>\n",
       "      <td>1368.00</td>\n",
       "    </tr>\n",
       "    <tr>\n",
       "      <th>50%</th>\n",
       "      <td>3.980000e+04</td>\n",
       "      <td>-29.94</td>\n",
       "      <td>-51.19</td>\n",
       "      <td>4.00</td>\n",
       "      <td>6.300000e+04</td>\n",
       "      <td>2014.00</td>\n",
       "      <td>1598.00</td>\n",
       "    </tr>\n",
       "    <tr>\n",
       "      <th>75%</th>\n",
       "      <td>6.000000e+04</td>\n",
       "      <td>-29.64</td>\n",
       "      <td>-51.14</td>\n",
       "      <td>4.00</td>\n",
       "      <td>9.489250e+04</td>\n",
       "      <td>2016.00</td>\n",
       "      <td>1997.00</td>\n",
       "    </tr>\n",
       "    <tr>\n",
       "      <th>max</th>\n",
       "      <td>9.000000e+08</td>\n",
       "      <td>41.40</td>\n",
       "      <td>2.17</td>\n",
       "      <td>7.00</td>\n",
       "      <td>1.000000e+09</td>\n",
       "      <td>2020.00</td>\n",
       "      <td>174696.00</td>\n",
       "    </tr>\n",
       "  </tbody>\n",
       "</table>\n",
       "</div>"
      ],
      "text/plain": [
       "              price  location_latitude  location_longitude    doors  \\\n",
       "count  9.947000e+03            9824.00             9824.00  9947.00   \n",
       "mean   2.372200e+05             -29.33              -51.14     3.97   \n",
       "std    1.148189e+07               5.35                4.12     0.77   \n",
       "min    1.000000e+01             -33.69             -119.42     0.00   \n",
       "25%    2.790000e+04             -30.03              -51.22     4.00   \n",
       "50%    3.980000e+04             -29.94              -51.19     4.00   \n",
       "75%    6.000000e+04             -29.64              -51.14     4.00   \n",
       "max    9.000000e+08              41.40                2.17     7.00   \n",
       "\n",
       "         kilometers  vehicle_year  engine_displacement  \n",
       "count  9.947000e+03       9947.00              3444.00  \n",
       "mean   2.989408e+05       2012.79              1852.32  \n",
       "std    1.422604e+07          5.32              4419.83  \n",
       "min    0.000000e+00       1963.00                 1.00  \n",
       "25%    3.193750e+04       2011.00              1368.00  \n",
       "50%    6.300000e+04       2014.00              1598.00  \n",
       "75%    9.489250e+04       2016.00              1997.00  \n",
       "max    1.000000e+09       2020.00            174696.00  "
      ]
     },
     "execution_count": 15,
     "metadata": {},
     "output_type": "execute_result"
    }
   ],
   "source": [
    "df.describe().round(2)"
   ]
  },
  {
   "cell_type": "code",
   "execution_count": 16,
   "metadata": {},
   "outputs": [
    {
     "name": "stderr",
     "output_type": "stream",
     "text": [
      "/opt/conda/lib/python3.6/site-packages/ipykernel_launcher.py:3: SettingWithCopyWarning: \n",
      "A value is trying to be set on a copy of a slice from a DataFrame\n",
      "\n",
      "See the caveats in the documentation: http://pandas.pydata.org/pandas-docs/stable/user_guide/indexing.html#returning-a-view-versus-a-copy\n",
      "  This is separate from the ipykernel package so we can avoid doing imports until\n",
      "/opt/conda/lib/python3.6/site-packages/ipykernel_launcher.py:4: SettingWithCopyWarning: \n",
      "A value is trying to be set on a copy of a slice from a DataFrame\n",
      "\n",
      "See the caveats in the documentation: http://pandas.pydata.org/pandas-docs/stable/user_guide/indexing.html#returning-a-view-versus-a-copy\n",
      "  after removing the cwd from sys.path.\n"
     ]
    }
   ],
   "source": [
    "# fix extreme values\n",
    "df.price.replace({df.price.max(): np.nan}, inplace=True)\n",
    "df.engine_displacement[df.engine_displacement < 900] = np.nan\n",
    "df.engine_displacement[df.engine_displacement > 4000] = np.nan\n",
    "df.kilometers.replace({df.kilometers.max(): np.nan}, inplace=True)\n",
    "df.vehicle_year.replace({df.vehicle_year.min(): np.nan}, inplace=True)"
   ]
  },
  {
   "cell_type": "markdown",
   "metadata": {},
   "source": [
    "Finally, we must deal with missing values, since `scikit-learn` does not accept them. It is often more fruitful to fill in missing values, rather than dropping whole samples."
   ]
  },
  {
   "cell_type": "code",
   "execution_count": 17,
   "metadata": {},
   "outputs": [
    {
     "data": {
      "text/plain": [
       "price                     1\n",
       "address_city_name         0\n",
       "location_latitude       123\n",
       "location_longitude      123\n",
       "seller_car_dealer         0\n",
       "transmission            314\n",
       "brand                     0\n",
       "doors                     0\n",
       "fuel_type                 0\n",
       "kilometers                2\n",
       "model                     0\n",
       "vehicle_year              1\n",
       "traction_control       5722\n",
       "engine_displacement    6553\n",
       "dtype: int64"
      ]
     },
     "execution_count": 17,
     "metadata": {},
     "output_type": "execute_result"
    }
   ],
   "source": [
    "# find missing values\n",
    "df.isna().sum()"
   ]
  },
  {
   "cell_type": "code",
   "execution_count": 18,
   "metadata": {},
   "outputs": [],
   "source": [
    "df.transmission       = df.transmission.fillna('Manual')\n",
    "df.kilometers         = df.kilometers.fillna(df.kilometers.mean())\n",
    "df.price              = df.price.fillna(df.price.mean())\n",
    "df.traction_control   = df.traction_control.fillna('Dianteira')\n",
    "df.location_latitude  = df.location_latitude.fillna(method='ffill')\n",
    "df.location_longitude = df.location_longitude.fillna(method='ffill')\n",
    "df.vehicle_year       = df.vehicle_year.fillna(df.vehicle_year.mean())"
   ]
  },
  {
   "cell_type": "markdown",
   "metadata": {},
   "source": [
    "Features `engine_displacement` still exhibit lots of missing values. For `engine_displacement`, my strategy was to fill with the mode (or median) values of features according to each car model. This seems to be a better approach than filling with the average engine size of all cars."
   ]
  },
  {
   "cell_type": "code",
   "execution_count": 19,
   "metadata": {},
   "outputs": [],
   "source": [
    "import statistics\n",
    "def mode_or_median(var):\n",
    "    try:\n",
    "        return statistics.mode(var)\n",
    "    except statistics.StatisticsError: # there may be no unique value\n",
    "        return np.median(var)"
   ]
  },
  {
   "cell_type": "code",
   "execution_count": 20,
   "metadata": {},
   "outputs": [
    {
     "data": {
      "text/plain": [
       "model\n",
       "boxster         1796.0\n",
       "cherokee        3701.0\n",
       "pajero sport    3497.0\n",
       "elantra         1998.0\n",
       "180-d           1796.0\n",
       "serie 3         1796.0\n",
       "coupe           1796.0\n",
       "classe b        1796.0\n",
       "ix35            1999.0\n",
       "discovery       1796.0\n",
       "Name: engine_displacement, dtype: float64"
      ]
     },
     "execution_count": 20,
     "metadata": {},
     "output_type": "execute_result"
    }
   ],
   "source": [
    "avg_eng = df.groupby('model')['engine_displacement'].apply(mode_or_median)\n",
    "avg_eng.fillna(avg_eng.median(),inplace=True) # fill the remaining NaN's\n",
    "avg_eng.sample(10)"
   ]
  },
  {
   "cell_type": "markdown",
   "metadata": {},
   "source": [
    "Now, we will insert the average values only when data were initially missing:"
   ]
  },
  {
   "cell_type": "code",
   "execution_count": 21,
   "metadata": {},
   "outputs": [],
   "source": [
    "df.set_index('model', drop=False, inplace=True)\n",
    "df.update(avg_eng, overwrite=False) # overwrite=False only updates NaN's\n",
    "df.reset_index(drop=True, inplace=True)"
   ]
  },
  {
   "cell_type": "markdown",
   "metadata": {},
   "source": [
    "Last, I will drop extreme values from our target distribution of car prices. First, because luxury car prices are harder to predict (because of fewer data points), and also because some entries are just wrong (i.e. ads for older cars whose prices have been mistyped)."
   ]
  },
  {
   "cell_type": "code",
   "execution_count": 22,
   "metadata": {},
   "outputs": [],
   "source": [
    "# keep values within interval\n",
    "df = df[(df.price > df.price.quantile(0.01)) & (df.price < df.price.quantile(0.99))]"
   ]
  },
  {
   "cell_type": "markdown",
   "metadata": {},
   "source": [
    "Finally, we have a dataset ready for analysis:"
   ]
  },
  {
   "cell_type": "code",
   "execution_count": 23,
   "metadata": {},
   "outputs": [
    {
     "data": {
      "text/html": [
       "<div>\n",
       "<style scoped>\n",
       "    .dataframe tbody tr th:only-of-type {\n",
       "        vertical-align: middle;\n",
       "    }\n",
       "\n",
       "    .dataframe tbody tr th {\n",
       "        vertical-align: top;\n",
       "    }\n",
       "\n",
       "    .dataframe thead th {\n",
       "        text-align: right;\n",
       "    }\n",
       "</style>\n",
       "<table border=\"1\" class=\"dataframe\">\n",
       "  <thead>\n",
       "    <tr style=\"text-align: right;\">\n",
       "      <th></th>\n",
       "      <th>price</th>\n",
       "      <th>address_city_name</th>\n",
       "      <th>location_latitude</th>\n",
       "      <th>location_longitude</th>\n",
       "      <th>seller_car_dealer</th>\n",
       "      <th>transmission</th>\n",
       "      <th>brand</th>\n",
       "      <th>doors</th>\n",
       "      <th>fuel_type</th>\n",
       "      <th>kilometers</th>\n",
       "      <th>model</th>\n",
       "      <th>vehicle_year</th>\n",
       "      <th>traction_control</th>\n",
       "      <th>engine_displacement</th>\n",
       "    </tr>\n",
       "  </thead>\n",
       "  <tbody>\n",
       "    <tr>\n",
       "      <th>0</th>\n",
       "      <td>25990.0</td>\n",
       "      <td>Caxias do Sul</td>\n",
       "      <td>-29.147295</td>\n",
       "      <td>-51.161154</td>\n",
       "      <td>True</td>\n",
       "      <td>Manual</td>\n",
       "      <td>fiat</td>\n",
       "      <td>4.0</td>\n",
       "      <td>Gasolina e álcool</td>\n",
       "      <td>38593.0</td>\n",
       "      <td>mobi</td>\n",
       "      <td>2018.0</td>\n",
       "      <td>Dianteira</td>\n",
       "      <td>999.0</td>\n",
       "    </tr>\n",
       "    <tr>\n",
       "      <th>1</th>\n",
       "      <td>47890.0</td>\n",
       "      <td>Caxias do Sul</td>\n",
       "      <td>-29.147295</td>\n",
       "      <td>-51.161154</td>\n",
       "      <td>True</td>\n",
       "      <td>Manual</td>\n",
       "      <td>fiat</td>\n",
       "      <td>2.0</td>\n",
       "      <td>Gasolina e álcool</td>\n",
       "      <td>51233.0</td>\n",
       "      <td>fiorino</td>\n",
       "      <td>2018.0</td>\n",
       "      <td>Dianteira</td>\n",
       "      <td>1368.0</td>\n",
       "    </tr>\n",
       "    <tr>\n",
       "      <th>2</th>\n",
       "      <td>37990.0</td>\n",
       "      <td>Caxias do Sul</td>\n",
       "      <td>-29.147295</td>\n",
       "      <td>-51.161154</td>\n",
       "      <td>True</td>\n",
       "      <td>Manual</td>\n",
       "      <td>ford</td>\n",
       "      <td>4.0</td>\n",
       "      <td>Gasolina e álcool</td>\n",
       "      <td>46358.0</td>\n",
       "      <td>ka</td>\n",
       "      <td>2018.0</td>\n",
       "      <td>Dianteira</td>\n",
       "      <td>997.0</td>\n",
       "    </tr>\n",
       "    <tr>\n",
       "      <th>3</th>\n",
       "      <td>36490.0</td>\n",
       "      <td>Porto Alegre</td>\n",
       "      <td>-29.999978</td>\n",
       "      <td>-51.198601</td>\n",
       "      <td>True</td>\n",
       "      <td>Manual</td>\n",
       "      <td>chevrolet</td>\n",
       "      <td>4.0</td>\n",
       "      <td>Gasolina e álcool</td>\n",
       "      <td>59605.0</td>\n",
       "      <td>onix</td>\n",
       "      <td>2018.0</td>\n",
       "      <td>Dianteira</td>\n",
       "      <td>999.0</td>\n",
       "    </tr>\n",
       "    <tr>\n",
       "      <th>4</th>\n",
       "      <td>41490.0</td>\n",
       "      <td>Porto Alegre</td>\n",
       "      <td>-29.999978</td>\n",
       "      <td>-51.198601</td>\n",
       "      <td>True</td>\n",
       "      <td>Manual</td>\n",
       "      <td>ford</td>\n",
       "      <td>4.0</td>\n",
       "      <td>Gasolina e álcool</td>\n",
       "      <td>57818.0</td>\n",
       "      <td>ka</td>\n",
       "      <td>2018.0</td>\n",
       "      <td>Dianteira</td>\n",
       "      <td>997.0</td>\n",
       "    </tr>\n",
       "  </tbody>\n",
       "</table>\n",
       "</div>"
      ],
      "text/plain": [
       "     price address_city_name  location_latitude  location_longitude  \\\n",
       "0  25990.0     Caxias do Sul         -29.147295          -51.161154   \n",
       "1  47890.0     Caxias do Sul         -29.147295          -51.161154   \n",
       "2  37990.0     Caxias do Sul         -29.147295          -51.161154   \n",
       "3  36490.0      Porto Alegre         -29.999978          -51.198601   \n",
       "4  41490.0      Porto Alegre         -29.999978          -51.198601   \n",
       "\n",
       "   seller_car_dealer transmission      brand  doors          fuel_type  \\\n",
       "0               True       Manual       fiat    4.0  Gasolina e álcool   \n",
       "1               True       Manual       fiat    2.0  Gasolina e álcool   \n",
       "2               True       Manual       ford    4.0  Gasolina e álcool   \n",
       "3               True       Manual  chevrolet    4.0  Gasolina e álcool   \n",
       "4               True       Manual       ford    4.0  Gasolina e álcool   \n",
       "\n",
       "   kilometers    model  vehicle_year traction_control  engine_displacement  \n",
       "0     38593.0     mobi        2018.0        Dianteira                999.0  \n",
       "1     51233.0  fiorino        2018.0        Dianteira               1368.0  \n",
       "2     46358.0       ka        2018.0        Dianteira                997.0  \n",
       "3     59605.0     onix        2018.0        Dianteira                999.0  \n",
       "4     57818.0       ka        2018.0        Dianteira                997.0  "
      ]
     },
     "execution_count": 23,
     "metadata": {},
     "output_type": "execute_result"
    }
   ],
   "source": [
    "df.head()"
   ]
  },
  {
   "cell_type": "markdown",
   "metadata": {},
   "source": [
    "# Exploratory data analysis\n",
    "\n",
    "First, let's check descriptive statistics:"
   ]
  },
  {
   "cell_type": "code",
   "execution_count": 24,
   "metadata": {},
   "outputs": [
    {
     "data": {
      "text/html": [
       "<div>\n",
       "<style scoped>\n",
       "    .dataframe tbody tr th:only-of-type {\n",
       "        vertical-align: middle;\n",
       "    }\n",
       "\n",
       "    .dataframe tbody tr th {\n",
       "        vertical-align: top;\n",
       "    }\n",
       "\n",
       "    .dataframe thead th {\n",
       "        text-align: right;\n",
       "    }\n",
       "</style>\n",
       "<table border=\"1\" class=\"dataframe\">\n",
       "  <thead>\n",
       "    <tr style=\"text-align: right;\">\n",
       "      <th></th>\n",
       "      <th>price</th>\n",
       "      <th>address_city_name</th>\n",
       "      <th>location_latitude</th>\n",
       "      <th>location_longitude</th>\n",
       "      <th>seller_car_dealer</th>\n",
       "      <th>transmission</th>\n",
       "      <th>brand</th>\n",
       "      <th>doors</th>\n",
       "      <th>fuel_type</th>\n",
       "      <th>kilometers</th>\n",
       "      <th>model</th>\n",
       "      <th>vehicle_year</th>\n",
       "      <th>traction_control</th>\n",
       "      <th>engine_displacement</th>\n",
       "    </tr>\n",
       "  </thead>\n",
       "  <tbody>\n",
       "    <tr>\n",
       "      <th>count</th>\n",
       "      <td>9737.00</td>\n",
       "      <td>9737</td>\n",
       "      <td>9737.00</td>\n",
       "      <td>9737.00</td>\n",
       "      <td>9737</td>\n",
       "      <td>9737</td>\n",
       "      <td>9737</td>\n",
       "      <td>9737.00</td>\n",
       "      <td>9737</td>\n",
       "      <td>9.737000e+03</td>\n",
       "      <td>9737</td>\n",
       "      <td>9737.00</td>\n",
       "      <td>9737</td>\n",
       "      <td>9737.00</td>\n",
       "    </tr>\n",
       "    <tr>\n",
       "      <th>unique</th>\n",
       "      <td>NaN</td>\n",
       "      <td>186</td>\n",
       "      <td>NaN</td>\n",
       "      <td>NaN</td>\n",
       "      <td>2</td>\n",
       "      <td>4</td>\n",
       "      <td>52</td>\n",
       "      <td>NaN</td>\n",
       "      <td>16</td>\n",
       "      <td>NaN</td>\n",
       "      <td>475</td>\n",
       "      <td>NaN</td>\n",
       "      <td>6</td>\n",
       "      <td>NaN</td>\n",
       "    </tr>\n",
       "    <tr>\n",
       "      <th>top</th>\n",
       "      <td>NaN</td>\n",
       "      <td>Porto Alegre</td>\n",
       "      <td>NaN</td>\n",
       "      <td>NaN</td>\n",
       "      <td>True</td>\n",
       "      <td>Manual</td>\n",
       "      <td>chevrolet</td>\n",
       "      <td>NaN</td>\n",
       "      <td>Gasolina e álcool</td>\n",
       "      <td>NaN</td>\n",
       "      <td>onix</td>\n",
       "      <td>NaN</td>\n",
       "      <td>Dianteira</td>\n",
       "      <td>NaN</td>\n",
       "    </tr>\n",
       "    <tr>\n",
       "      <th>freq</th>\n",
       "      <td>NaN</td>\n",
       "      <td>3792</td>\n",
       "      <td>NaN</td>\n",
       "      <td>NaN</td>\n",
       "      <td>8610</td>\n",
       "      <td>5705</td>\n",
       "      <td>1437</td>\n",
       "      <td>NaN</td>\n",
       "      <td>6542</td>\n",
       "      <td>NaN</td>\n",
       "      <td>270</td>\n",
       "      <td>NaN</td>\n",
       "      <td>8363</td>\n",
       "      <td>NaN</td>\n",
       "    </tr>\n",
       "    <tr>\n",
       "      <th>mean</th>\n",
       "      <td>50638.31</td>\n",
       "      <td>NaN</td>\n",
       "      <td>-29.33</td>\n",
       "      <td>-51.14</td>\n",
       "      <td>NaN</td>\n",
       "      <td>NaN</td>\n",
       "      <td>NaN</td>\n",
       "      <td>3.98</td>\n",
       "      <td>NaN</td>\n",
       "      <td>9.399908e+04</td>\n",
       "      <td>NaN</td>\n",
       "      <td>2012.93</td>\n",
       "      <td>NaN</td>\n",
       "      <td>1655.66</td>\n",
       "    </tr>\n",
       "    <tr>\n",
       "      <th>std</th>\n",
       "      <td>36833.42</td>\n",
       "      <td>NaN</td>\n",
       "      <td>5.38</td>\n",
       "      <td>4.14</td>\n",
       "      <td>NaN</td>\n",
       "      <td>NaN</td>\n",
       "      <td>NaN</td>\n",
       "      <td>0.75</td>\n",
       "      <td>NaN</td>\n",
       "      <td>1.167588e+06</td>\n",
       "      <td>NaN</td>\n",
       "      <td>5.10</td>\n",
       "      <td>NaN</td>\n",
       "      <td>542.20</td>\n",
       "    </tr>\n",
       "    <tr>\n",
       "      <th>min</th>\n",
       "      <td>8900.00</td>\n",
       "      <td>NaN</td>\n",
       "      <td>-33.69</td>\n",
       "      <td>-119.42</td>\n",
       "      <td>NaN</td>\n",
       "      <td>NaN</td>\n",
       "      <td>NaN</td>\n",
       "      <td>0.00</td>\n",
       "      <td>NaN</td>\n",
       "      <td>0.000000e+00</td>\n",
       "      <td>NaN</td>\n",
       "      <td>1965.00</td>\n",
       "      <td>NaN</td>\n",
       "      <td>970.00</td>\n",
       "    </tr>\n",
       "    <tr>\n",
       "      <th>25%</th>\n",
       "      <td>28700.00</td>\n",
       "      <td>NaN</td>\n",
       "      <td>-30.03</td>\n",
       "      <td>-51.22</td>\n",
       "      <td>NaN</td>\n",
       "      <td>NaN</td>\n",
       "      <td>NaN</td>\n",
       "      <td>4.00</td>\n",
       "      <td>NaN</td>\n",
       "      <td>3.200000e+04</td>\n",
       "      <td>NaN</td>\n",
       "      <td>2011.00</td>\n",
       "      <td>NaN</td>\n",
       "      <td>1339.00</td>\n",
       "    </tr>\n",
       "    <tr>\n",
       "      <th>50%</th>\n",
       "      <td>39800.00</td>\n",
       "      <td>NaN</td>\n",
       "      <td>-29.94</td>\n",
       "      <td>-51.19</td>\n",
       "      <td>NaN</td>\n",
       "      <td>NaN</td>\n",
       "      <td>NaN</td>\n",
       "      <td>4.00</td>\n",
       "      <td>NaN</td>\n",
       "      <td>6.368000e+04</td>\n",
       "      <td>NaN</td>\n",
       "      <td>2014.00</td>\n",
       "      <td>NaN</td>\n",
       "      <td>1598.00</td>\n",
       "    </tr>\n",
       "    <tr>\n",
       "      <th>75%</th>\n",
       "      <td>59900.00</td>\n",
       "      <td>NaN</td>\n",
       "      <td>-29.64</td>\n",
       "      <td>-51.14</td>\n",
       "      <td>NaN</td>\n",
       "      <td>NaN</td>\n",
       "      <td>NaN</td>\n",
       "      <td>4.00</td>\n",
       "      <td>NaN</td>\n",
       "      <td>9.400000e+04</td>\n",
       "      <td>NaN</td>\n",
       "      <td>2016.00</td>\n",
       "      <td>NaN</td>\n",
       "      <td>1984.00</td>\n",
       "    </tr>\n",
       "    <tr>\n",
       "      <th>max</th>\n",
       "      <td>279900.00</td>\n",
       "      <td>NaN</td>\n",
       "      <td>41.40</td>\n",
       "      <td>2.17</td>\n",
       "      <td>NaN</td>\n",
       "      <td>NaN</td>\n",
       "      <td>NaN</td>\n",
       "      <td>7.00</td>\n",
       "      <td>NaN</td>\n",
       "      <td>1.111111e+08</td>\n",
       "      <td>NaN</td>\n",
       "      <td>2020.00</td>\n",
       "      <td>NaN</td>\n",
       "      <td>3920.00</td>\n",
       "    </tr>\n",
       "  </tbody>\n",
       "</table>\n",
       "</div>"
      ],
      "text/plain": [
       "            price address_city_name  location_latitude  location_longitude  \\\n",
       "count     9737.00              9737            9737.00             9737.00   \n",
       "unique        NaN               186                NaN                 NaN   \n",
       "top           NaN      Porto Alegre                NaN                 NaN   \n",
       "freq          NaN              3792                NaN                 NaN   \n",
       "mean     50638.31               NaN             -29.33              -51.14   \n",
       "std      36833.42               NaN               5.38                4.14   \n",
       "min       8900.00               NaN             -33.69             -119.42   \n",
       "25%      28700.00               NaN             -30.03              -51.22   \n",
       "50%      39800.00               NaN             -29.94              -51.19   \n",
       "75%      59900.00               NaN             -29.64              -51.14   \n",
       "max     279900.00               NaN              41.40                2.17   \n",
       "\n",
       "       seller_car_dealer transmission      brand    doors          fuel_type  \\\n",
       "count               9737         9737       9737  9737.00               9737   \n",
       "unique                 2            4         52      NaN                 16   \n",
       "top                 True       Manual  chevrolet      NaN  Gasolina e álcool   \n",
       "freq                8610         5705       1437      NaN               6542   \n",
       "mean                 NaN          NaN        NaN     3.98                NaN   \n",
       "std                  NaN          NaN        NaN     0.75                NaN   \n",
       "min                  NaN          NaN        NaN     0.00                NaN   \n",
       "25%                  NaN          NaN        NaN     4.00                NaN   \n",
       "50%                  NaN          NaN        NaN     4.00                NaN   \n",
       "75%                  NaN          NaN        NaN     4.00                NaN   \n",
       "max                  NaN          NaN        NaN     7.00                NaN   \n",
       "\n",
       "          kilometers model  vehicle_year traction_control  engine_displacement  \n",
       "count   9.737000e+03  9737       9737.00             9737              9737.00  \n",
       "unique           NaN   475           NaN                6                  NaN  \n",
       "top              NaN  onix           NaN        Dianteira                  NaN  \n",
       "freq             NaN   270           NaN             8363                  NaN  \n",
       "mean    9.399908e+04   NaN       2012.93              NaN              1655.66  \n",
       "std     1.167588e+06   NaN          5.10              NaN               542.20  \n",
       "min     0.000000e+00   NaN       1965.00              NaN               970.00  \n",
       "25%     3.200000e+04   NaN       2011.00              NaN              1339.00  \n",
       "50%     6.368000e+04   NaN       2014.00              NaN              1598.00  \n",
       "75%     9.400000e+04   NaN       2016.00              NaN              1984.00  \n",
       "max     1.111111e+08   NaN       2020.00              NaN              3920.00  "
      ]
     },
     "execution_count": 24,
     "metadata": {},
     "output_type": "execute_result"
    }
   ],
   "source": [
    "df.describe(include='all').round(2)"
   ]
  },
  {
   "cell_type": "markdown",
   "metadata": {},
   "source": [
    "The `describe` method is very useful to find strange values left in data, such as found in _engine displacement_ and _kilometers_.\n",
    "\n",
    "The correlation matrix:"
   ]
  },
  {
   "cell_type": "code",
   "execution_count": 25,
   "metadata": {},
   "outputs": [
    {
     "data": {
      "text/plain": [
       "<matplotlib.axes._subplots.AxesSubplot at 0x7f43ea3cf128>"
      ]
     },
     "execution_count": 25,
     "metadata": {},
     "output_type": "execute_result"
    },
    {
     "data": {
      "image/png": "[encoded data removed]",
      "text/plain": [
       "<Figure size 432x288 with 2 Axes>"
      ]
     },
     "metadata": {
      "needs_background": "light"
     },
     "output_type": "display_data"
    }
   ],
   "source": [
    "sns.heatmap(df.corr().round(2), annot=True)"
   ]
  },
  {
   "cell_type": "markdown",
   "metadata": {},
   "source": [
    "The most popular cars announced and the average price:"
   ]
  },
  {
   "cell_type": "code",
   "execution_count": 26,
   "metadata": {},
   "outputs": [
    {
     "data": {
      "text/html": [
       "<div>\n",
       "<style scoped>\n",
       "    .dataframe tbody tr th:only-of-type {\n",
       "        vertical-align: middle;\n",
       "    }\n",
       "\n",
       "    .dataframe tbody tr th {\n",
       "        vertical-align: top;\n",
       "    }\n",
       "\n",
       "    .dataframe thead tr th {\n",
       "        text-align: left;\n",
       "    }\n",
       "\n",
       "    .dataframe thead tr:last-of-type th {\n",
       "        text-align: right;\n",
       "    }\n",
       "</style>\n",
       "<table border=\"1\" class=\"dataframe\">\n",
       "  <thead>\n",
       "    <tr>\n",
       "      <th></th>\n",
       "      <th></th>\n",
       "      <th colspan=\"2\" halign=\"left\">price</th>\n",
       "    </tr>\n",
       "    <tr>\n",
       "      <th></th>\n",
       "      <th></th>\n",
       "      <th>mean</th>\n",
       "      <th>count</th>\n",
       "    </tr>\n",
       "    <tr>\n",
       "      <th>brand</th>\n",
       "      <th>model</th>\n",
       "      <th></th>\n",
       "      <th></th>\n",
       "    </tr>\n",
       "  </thead>\n",
       "  <tbody>\n",
       "    <tr>\n",
       "      <th>chevrolet</th>\n",
       "      <th>onix</th>\n",
       "      <td>39313.700000</td>\n",
       "      <td>270</td>\n",
       "    </tr>\n",
       "    <tr>\n",
       "      <th>renault</th>\n",
       "      <th>sandero</th>\n",
       "      <td>33448.488189</td>\n",
       "      <td>254</td>\n",
       "    </tr>\n",
       "    <tr>\n",
       "      <th>volkswagen</th>\n",
       "      <th>gol</th>\n",
       "      <td>27493.399209</td>\n",
       "      <td>253</td>\n",
       "    </tr>\n",
       "    <tr>\n",
       "      <th rowspan=\"3\" valign=\"top\">ford</th>\n",
       "      <th>fiesta</th>\n",
       "      <td>31357.462555</td>\n",
       "      <td>227</td>\n",
       "    </tr>\n",
       "    <tr>\n",
       "      <th>ka</th>\n",
       "      <td>35335.251142</td>\n",
       "      <td>219</td>\n",
       "    </tr>\n",
       "    <tr>\n",
       "      <th>ecosport</th>\n",
       "      <td>47848.888889</td>\n",
       "      <td>216</td>\n",
       "    </tr>\n",
       "    <tr>\n",
       "      <th>fiat</th>\n",
       "      <th>palio</th>\n",
       "      <td>23998.556650</td>\n",
       "      <td>203</td>\n",
       "    </tr>\n",
       "    <tr>\n",
       "      <th>chevrolet</th>\n",
       "      <th>prisma</th>\n",
       "      <td>38507.751479</td>\n",
       "      <td>169</td>\n",
       "    </tr>\n",
       "    <tr>\n",
       "      <th>toyota</th>\n",
       "      <th>corolla</th>\n",
       "      <td>57614.053254</td>\n",
       "      <td>169</td>\n",
       "    </tr>\n",
       "    <tr>\n",
       "      <th>fiat</th>\n",
       "      <th>uno</th>\n",
       "      <td>26541.528662</td>\n",
       "      <td>157</td>\n",
       "    </tr>\n",
       "  </tbody>\n",
       "</table>\n",
       "</div>"
      ],
      "text/plain": [
       "                            price      \n",
       "                             mean count\n",
       "brand      model                       \n",
       "chevrolet  onix      39313.700000   270\n",
       "renault    sandero   33448.488189   254\n",
       "volkswagen gol       27493.399209   253\n",
       "ford       fiesta    31357.462555   227\n",
       "           ka        35335.251142   219\n",
       "           ecosport  47848.888889   216\n",
       "fiat       palio     23998.556650   203\n",
       "chevrolet  prisma    38507.751479   169\n",
       "toyota     corolla   57614.053254   169\n",
       "fiat       uno       26541.528662   157"
      ]
     },
     "execution_count": 26,
     "metadata": {},
     "output_type": "execute_result"
    }
   ],
   "source": [
    "df.groupby(['brand','model']).agg({'price':['mean','count']}).sort_values(('price','count'), ascending=False)[:10]"
   ]
  },
  {
   "cell_type": "markdown",
   "metadata": {},
   "source": [
    "The same query as before, now considering the manufacturing year of the cars:"
   ]
  },
  {
   "cell_type": "code",
   "execution_count": 27,
   "metadata": {},
   "outputs": [
    {
     "data": {
      "text/html": [
       "<div>\n",
       "<style scoped>\n",
       "    .dataframe tbody tr th:only-of-type {\n",
       "        vertical-align: middle;\n",
       "    }\n",
       "\n",
       "    .dataframe tbody tr th {\n",
       "        vertical-align: top;\n",
       "    }\n",
       "\n",
       "    .dataframe thead tr th {\n",
       "        text-align: left;\n",
       "    }\n",
       "\n",
       "    .dataframe thead tr:last-of-type th {\n",
       "        text-align: right;\n",
       "    }\n",
       "</style>\n",
       "<table border=\"1\" class=\"dataframe\">\n",
       "  <thead>\n",
       "    <tr>\n",
       "      <th></th>\n",
       "      <th></th>\n",
       "      <th></th>\n",
       "      <th colspan=\"2\" halign=\"left\">price</th>\n",
       "    </tr>\n",
       "    <tr>\n",
       "      <th></th>\n",
       "      <th></th>\n",
       "      <th></th>\n",
       "      <th>mean</th>\n",
       "      <th>count</th>\n",
       "    </tr>\n",
       "    <tr>\n",
       "      <th>brand</th>\n",
       "      <th>model</th>\n",
       "      <th>vehicle_year</th>\n",
       "      <th></th>\n",
       "      <th></th>\n",
       "    </tr>\n",
       "  </thead>\n",
       "  <tbody>\n",
       "    <tr>\n",
       "      <th>chevrolet</th>\n",
       "      <th>onix</th>\n",
       "      <th>2019.0</th>\n",
       "      <td>40970.886076</td>\n",
       "      <td>79</td>\n",
       "    </tr>\n",
       "    <tr>\n",
       "      <th>ford</th>\n",
       "      <th>ka</th>\n",
       "      <th>2018.0</th>\n",
       "      <td>40143.461538</td>\n",
       "      <td>78</td>\n",
       "    </tr>\n",
       "    <tr>\n",
       "      <th>renault</th>\n",
       "      <th>sandero</th>\n",
       "      <th>2019.0</th>\n",
       "      <td>39859.583333</td>\n",
       "      <td>72</td>\n",
       "    </tr>\n",
       "    <tr>\n",
       "      <th>volkswagen</th>\n",
       "      <th>gol</th>\n",
       "      <th>2019.0</th>\n",
       "      <td>39231.403509</td>\n",
       "      <td>57</td>\n",
       "    </tr>\n",
       "    <tr>\n",
       "      <th>chevrolet</th>\n",
       "      <th>onix</th>\n",
       "      <th>2018.0</th>\n",
       "      <td>42293.921569</td>\n",
       "      <td>51</td>\n",
       "    </tr>\n",
       "    <tr>\n",
       "      <th>jeep</th>\n",
       "      <th>renegade</th>\n",
       "      <th>2016.0</th>\n",
       "      <td>70203.260870</td>\n",
       "      <td>46</td>\n",
       "    </tr>\n",
       "    <tr>\n",
       "      <th>ford</th>\n",
       "      <th>fiesta</th>\n",
       "      <th>2014.0</th>\n",
       "      <td>30614.186047</td>\n",
       "      <td>43</td>\n",
       "    </tr>\n",
       "    <tr>\n",
       "      <th>jeep</th>\n",
       "      <th>compass</th>\n",
       "      <th>2018.0</th>\n",
       "      <td>111564.634146</td>\n",
       "      <td>41</td>\n",
       "    </tr>\n",
       "    <tr>\n",
       "      <th>renault</th>\n",
       "      <th>logan</th>\n",
       "      <th>2019.0</th>\n",
       "      <td>40263.658537</td>\n",
       "      <td>41</td>\n",
       "    </tr>\n",
       "    <tr>\n",
       "      <th>fiat</th>\n",
       "      <th>palio</th>\n",
       "      <th>2013.0</th>\n",
       "      <td>28243.076923</td>\n",
       "      <td>39</td>\n",
       "    </tr>\n",
       "  </tbody>\n",
       "</table>\n",
       "</div>"
      ],
      "text/plain": [
       "                                          price      \n",
       "                                           mean count\n",
       "brand      model    vehicle_year                     \n",
       "chevrolet  onix     2019.0         40970.886076    79\n",
       "ford       ka       2018.0         40143.461538    78\n",
       "renault    sandero  2019.0         39859.583333    72\n",
       "volkswagen gol      2019.0         39231.403509    57\n",
       "chevrolet  onix     2018.0         42293.921569    51\n",
       "jeep       renegade 2016.0         70203.260870    46\n",
       "ford       fiesta   2014.0         30614.186047    43\n",
       "jeep       compass  2018.0        111564.634146    41\n",
       "renault    logan    2019.0         40263.658537    41\n",
       "fiat       palio    2013.0         28243.076923    39"
      ]
     },
     "execution_count": 27,
     "metadata": {},
     "output_type": "execute_result"
    }
   ],
   "source": [
    "df.groupby(['brand','model','vehicle_year']).agg({'price':['mean','count']}).sort_values(('price','count'), ascending=False)[:10]"
   ]
  },
  {
   "cell_type": "markdown",
   "metadata": {},
   "source": [
    "Here are the most expensive brands, by average price:"
   ]
  },
  {
   "cell_type": "code",
   "execution_count": 28,
   "metadata": {},
   "outputs": [
    {
     "data": {
      "text/plain": [
       "<matplotlib.axes._subplots.AxesSubplot at 0x7f43eb7da9b0>"
      ]
     },
     "execution_count": 28,
     "metadata": {},
     "output_type": "execute_result"
    },
    {
     "data": {
      "image/png": "[encoded data removed]",
      "text/plain": [
       "<Figure size 432x288 with 1 Axes>"
      ]
     },
     "metadata": {
      "needs_background": "light"
     },
     "output_type": "display_data"
    }
   ],
   "source": [
    "df.pivot_table(index=['brand'], values=['price'], aggfunc=np.mean).round(2).sort_values('price', ascending=False)[:10].plot.bar()"
   ]
  },
  {
   "cell_type": "markdown",
   "metadata": {},
   "source": [
    "How cars are located geographically:"
   ]
  },
  {
   "cell_type": "code",
   "execution_count": 29,
   "metadata": {},
   "outputs": [
    {
     "name": "stderr",
     "output_type": "stream",
     "text": [
      "/opt/conda/lib/python3.6/site-packages/cartopy/io/__init__.py:260: DownloadWarning: Downloading: http://naciscdn.org/naturalearth/50m/cultural/ne_50m_admin_1_states_provinces.zip\n",
      "  warnings.warn('Downloading: {}'.format(url), DownloadWarning)\n"
     ]
    },
    {
     "data": {
      "text/plain": [
       "<matplotlib.collections.PathCollection at 0x7f43e7efc908>"
      ]
     },
     "execution_count": 29,
     "metadata": {},
     "output_type": "execute_result"
    },
    {
     "data": {
      "image/png": "[encoded data removed]",
      "text/plain": [
       "<Figure size 504x792 with 1 Axes>"
      ]
     },
     "metadata": {
      "needs_background": "light"
     },
     "output_type": "display_data"
    }
   ],
   "source": [
    "import cartopy.crs as ccrs\n",
    "from cartopy.io import shapereader\n",
    "\n",
    "kw = dict(resolution='50m', category='cultural',\n",
    "          name='admin_1_states_provinces')\n",
    "\n",
    "states_shp = shapereader.natural_earth(**kw)\n",
    "shp = shapereader.Reader(states_shp)\n",
    "\n",
    "subplot_kw = dict(projection=ccrs.PlateCarree())\n",
    "\n",
    "fig, ax = plt.subplots(figsize=(7, 11),\n",
    "                       subplot_kw=subplot_kw)\n",
    "ax.set_extent([-57.5,-49.5, -34,-27])\n",
    "ax.add_geometries(shp.geometries(), ccrs.PlateCarree(), facecolor='lightgreen')\n",
    "ax.scatter(df.location_longitude, df.location_latitude, marker='.', c='green', zorder=2)"
   ]
  },
  {
   "cell_type": "markdown",
   "metadata": {},
   "source": [
    "The relationship between continuous features are key in our dataset. Are they linear? This is important as most models assume a linear relationship between features and the target."
   ]
  },
  {
   "cell_type": "code",
   "execution_count": 30,
   "metadata": {},
   "outputs": [
    {
     "data": {
      "text/plain": [
       "<seaborn.axisgrid.PairGrid at 0x7f43e7f07da0>"
      ]
     },
     "execution_count": 30,
     "metadata": {},
     "output_type": "execute_result"
    },
    {
     "data": {
      "image/png": "[encoded data removed]",
      "text/plain": [
       "<Figure size 720x720 with 20 Axes>"
      ]
     },
     "metadata": {
      "needs_background": "light"
     },
     "output_type": "display_data"
    }
   ],
   "source": [
    "sns.pairplot(df[['price','kilometers','engine_displacement','vehicle_year']], diag_kind='kde')"
   ]
  },
  {
   "cell_type": "markdown",
   "metadata": {},
   "source": [
    "# Model tests\n",
    "\n",
    "First, let's identify the scope of our problem. Our target, `price`, is continuous, so we're dealing with a regression problem. In this section I will experiment with different regression techniques. But first, the dataset must be further processed: our categorical features must be translated into numeric. This can be done in pandas with `get_dummies` (or in scikit-learn with `OneHotEncoder`): it transforms a categorical feature into dummy variables that indicate which category an observation belongs.'\n",
    "\n",
    "My theoretical model is currently specified as (simplified):\n",
    "\n",
    "$price_i = model_i + year_i + features_i + error_i$\n",
    "\n",
    "In a regression context, this means that all auto models depreciate at a rate determined by the coefficient associated with $year$. However, one would expect each model to lose value at a different rate (i.e. luxury, fuel-efficient or low-maintenance cars would preserve their value for longer). We can implement this by interacting features $model$ and $year$, that is, $price_i = modelyear_i + features_i + error_i$. The downside of this approach is that it may lead to overfitting.\n",
    "\n",
    "Let's load the `scikit-learn` methods:"
   ]
  },
  {
   "cell_type": "code",
   "execution_count": 31,
   "metadata": {},
   "outputs": [],
   "source": [
    "from sklearn.compose import ColumnTransformer\n",
    "from sklearn.pipeline import Pipeline, FeatureUnion\n",
    "from sklearn.preprocessing import StandardScaler, OneHotEncoder, FunctionTransformer\n",
    "from sklearn.model_selection import train_test_split\n",
    "from sklearn import metrics\n",
    "\n",
    "# disable standard scaler data conversion warning\n",
    "import warnings\n",
    "from sklearn.exceptions import DataConversionWarning\n",
    "warnings.filterwarnings(action='ignore', category=DataConversionWarning)\n",
    "\n",
    "X = df.drop(['price','address_city_name'], axis=1).copy()\n",
    "y = df.price.values.copy() # prices in R$"
   ]
  },
  {
   "cell_type": "markdown",
   "metadata": {},
   "source": [
    "Next, I split the data in both training and data sets. Training data will be used to fit the model, and the test set to assess model accuracy."
   ]
  },
  {
   "cell_type": "code",
   "execution_count": 32,
   "metadata": {},
   "outputs": [],
   "source": [
    "# generate train and test sets\n",
    "X_train, X_test, y_train, y_test = train_test_split(X, y, test_size=0.3)"
   ]
  },
  {
   "cell_type": "markdown",
   "metadata": {},
   "source": [
    "In addition, we can perform standardization (centering of data around the average, also called scaling) of our numerical features using `StandardScaler`. Standardization can improve the accuracy of most models, on the other hand we lose interpretation of model coefficients such as the ones given by linear regression. Fortunately, we can use the `predict` method to give us model predictions. This step will be done inside a pipeline, after training and test data splits, to avoid [data leakage](https://machinelearningmastery.com/data-leakage-machine-learning/)."
   ]
  },
  {
   "cell_type": "code",
   "execution_count": 33,
   "metadata": {},
   "outputs": [],
   "source": [
    "# categorical features\n",
    "cat_ft = ['seller_car_dealer', 'transmission', 'brand', 'fuel_type', 'model', 'traction_control']\n",
    "\n",
    "# run once on full dataset to get all category values\n",
    "temp = ColumnTransformer([('cat', OneHotEncoder(), cat_ft)]).fit(X)\n",
    "cats = temp.named_transformers_['cat'].categories_\n",
    "\n",
    "cat_tr = OneHotEncoder(categories=cats, sparse=False)\n",
    "\n",
    "# numerical features\n",
    "num_ft = ['location_latitude', 'location_longitude', 'engine_displacement', 'doors', 'kilometers', 'vehicle_year']\n",
    "num_tr = StandardScaler()\n",
    "#num_tr = FunctionTransformer(func=None)\n",
    "\n",
    "# data transformer\n",
    "data_tr = ColumnTransformer([('num', num_tr, num_ft), ('cat', cat_tr, cat_ft)])"
   ]
  },
  {
   "cell_type": "markdown",
   "metadata": {},
   "source": [
    "## Model comparison\n",
    "\n",
    "There are a lot of techniques that can be used in a regression problem. As a starting point, I will compare some of them in terms of scores and sum of errors:"
   ]
  },
  {
   "cell_type": "code",
   "execution_count": 34,
   "metadata": {},
   "outputs": [],
   "source": [
    "from sklearn import linear_model\n",
    "from sklearn.neighbors import KNeighborsRegressor\n",
    "from sklearn.dummy import DummyRegressor\n",
    "from sklearn import ensemble\n",
    "\n",
    "models = [DummyRegressor(),\n",
    "          KNeighborsRegressor(),\n",
    "          #linear_model.LinearRegression(), # ommited because of negative scores\n",
    "          linear_model.Lasso(),\n",
    "          linear_model.Ridge(),\n",
    "          linear_model.ElasticNet(),\n",
    "          ensemble.GradientBoostingRegressor(),\n",
    "          ensemble.RandomForestRegressor(),\n",
    "          ensemble.ExtraTreesRegressor()]\n",
    "\n",
    "models_names = ['Dummy','K-nn','Lasso','Ridge','Elastic','Boost','Forest','Extra']"
   ]
  },
  {
   "cell_type": "code",
   "execution_count": 35,
   "metadata": {},
   "outputs": [
    {
     "name": "stderr",
     "output_type": "stream",
     "text": [
      "/opt/conda/lib/python3.6/site-packages/sklearn/linear_model/coordinate_descent.py:475: ConvergenceWarning: Objective did not converge. You might want to increase the number of iterations. Duality gap: 3596188841.248047, tolerance: 918105823.2719475\n",
      "  positive)\n",
      "/opt/conda/lib/python3.6/site-packages/sklearn/ensemble/forest.py:245: FutureWarning: The default value of n_estimators will change from 10 in version 0.20 to 100 in 0.22.\n",
      "  \"10 in version 0.20 to 100 in 0.22.\", FutureWarning)\n",
      "/opt/conda/lib/python3.6/site-packages/sklearn/ensemble/forest.py:245: FutureWarning: The default value of n_estimators will change from 10 in version 0.20 to 100 in 0.22.\n",
      "  \"10 in version 0.20 to 100 in 0.22.\", FutureWarning)\n"
     ]
    }
   ],
   "source": [
    "scores = []\n",
    "mse = []\n",
    "mae = []\n",
    "\n",
    "for model in models:\n",
    "    pipe = Pipeline([\n",
    "    ('features', data_tr),\n",
    "    ('model', model)\n",
    "    ])\n",
    "    fits = pipe.fit(X_train,y_train)\n",
    "    scores.append(metrics.r2_score(y_test, fits.predict(X_test)))\n",
    "    mse.append(metrics.mean_squared_error(y_test, fits.predict(X_test)))\n",
    "    mae.append(metrics.median_absolute_error(y_test, fits.predict(X_test)))"
   ]
  },
  {
   "cell_type": "markdown",
   "metadata": {},
   "source": [
    "Let's take a look at the model $R^2$ scores (more is better), mean squared error and median absolute error (less is better):"
   ]
  },
  {
   "cell_type": "code",
   "execution_count": 36,
   "metadata": {},
   "outputs": [
    {
     "data": {
      "text/plain": [
       "Text(0, 0.5, 'Median absolute error')"
      ]
     },
     "execution_count": 36,
     "metadata": {},
     "output_type": "execute_result"
    },
    {
     "data": {
      "image/png": "[encoded data removed]",
      "text/plain": [
       "<Figure size 1296x432 with 3 Axes>"
      ]
     },
     "metadata": {
      "needs_background": "light"
     },
     "output_type": "display_data"
    }
   ],
   "source": [
    "f, (ax1, ax2, ax3) = plt.subplots(ncols=3, sharex=True, sharey=False, figsize=(18,6))\n",
    "ax1.bar(models_names, scores)\n",
    "ax1.set_ylabel('$R^2$')\n",
    "ax2.bar(models_names, mse)\n",
    "ax2.set_ylabel('Mean squared error')\n",
    "ax3.bar(models_names, mae)\n",
    "ax3.set_ylabel('Median absolute error')"
   ]
  },
  {
   "cell_type": "markdown",
   "metadata": {},
   "source": [
    "All model scores are calculated using regression residuals, so they are correlated. The $R^2$ score in most models performed at around 0.8, except the elastic net model, which peaked at 0.5 in the training set. Gradient boosting, random forest and extra trees had the best scores. However, $R^2$ scores should be taken with precaution as they are biased towards larger models. Mean squared error (MSE) is a metric that penalizes larger prediction errors. Last are the median absolute error (MAE). Absolute error measures are interesting because they inform average deviations in terms of our target (predicted car prices, in our case).\n",
    "\n",
    "I'll stick with the random forest regressor, as it was less prone to overfitting in previous tests."
   ]
  },
  {
   "cell_type": "markdown",
   "metadata": {},
   "source": [
    "## Predictions\n",
    "\n",
    "Now, we fit the chosen model and extract some predictions:"
   ]
  },
  {
   "cell_type": "code",
   "execution_count": 37,
   "metadata": {},
   "outputs": [
    {
     "data": {
      "text/plain": [
       "0.843460922958776"
      ]
     },
     "execution_count": 37,
     "metadata": {},
     "output_type": "execute_result"
    }
   ],
   "source": [
    "mod = Pipeline([\n",
    "    ('features', data_tr),\n",
    "    ('model', ensemble.RandomForestRegressor(n_estimators=100, min_samples_leaf=1))])\n",
    "\n",
    "mod_fit = mod.fit(X_train, y_train)\n",
    "\n",
    "mod_fit.score(X_test,y_test)"
   ]
  },
  {
   "cell_type": "markdown",
   "metadata": {},
   "source": [
    "Some example predictions from the model:"
   ]
  },
  {
   "cell_type": "code",
   "execution_count": 38,
   "metadata": {},
   "outputs": [
    {
     "data": {
      "text/html": [
       "<div>\n",
       "<style scoped>\n",
       "    .dataframe tbody tr th:only-of-type {\n",
       "        vertical-align: middle;\n",
       "    }\n",
       "\n",
       "    .dataframe tbody tr th {\n",
       "        vertical-align: top;\n",
       "    }\n",
       "\n",
       "    .dataframe thead th {\n",
       "        text-align: right;\n",
       "    }\n",
       "</style>\n",
       "<table border=\"1\" class=\"dataframe\">\n",
       "  <thead>\n",
       "    <tr style=\"text-align: right;\">\n",
       "      <th></th>\n",
       "      <th>predicted</th>\n",
       "      <th>true</th>\n",
       "      <th>difference</th>\n",
       "    </tr>\n",
       "  </thead>\n",
       "  <tbody>\n",
       "    <tr>\n",
       "      <th>2480</th>\n",
       "      <td>41356.50</td>\n",
       "      <td>38000.0</td>\n",
       "      <td>3356.50</td>\n",
       "    </tr>\n",
       "    <tr>\n",
       "      <th>332</th>\n",
       "      <td>25047.35</td>\n",
       "      <td>28500.0</td>\n",
       "      <td>-3452.65</td>\n",
       "    </tr>\n",
       "    <tr>\n",
       "      <th>2612</th>\n",
       "      <td>64611.37</td>\n",
       "      <td>59900.0</td>\n",
       "      <td>4711.37</td>\n",
       "    </tr>\n",
       "    <tr>\n",
       "      <th>170</th>\n",
       "      <td>33458.37</td>\n",
       "      <td>31900.0</td>\n",
       "      <td>1558.37</td>\n",
       "    </tr>\n",
       "    <tr>\n",
       "      <th>48</th>\n",
       "      <td>70619.20</td>\n",
       "      <td>69900.0</td>\n",
       "      <td>719.20</td>\n",
       "    </tr>\n",
       "    <tr>\n",
       "      <th>2300</th>\n",
       "      <td>11152.30</td>\n",
       "      <td>8900.0</td>\n",
       "      <td>2252.30</td>\n",
       "    </tr>\n",
       "    <tr>\n",
       "      <th>2653</th>\n",
       "      <td>61661.30</td>\n",
       "      <td>66900.0</td>\n",
       "      <td>-5238.70</td>\n",
       "    </tr>\n",
       "    <tr>\n",
       "      <th>1994</th>\n",
       "      <td>37622.40</td>\n",
       "      <td>36460.0</td>\n",
       "      <td>1162.40</td>\n",
       "    </tr>\n",
       "    <tr>\n",
       "      <th>679</th>\n",
       "      <td>28294.23</td>\n",
       "      <td>28900.0</td>\n",
       "      <td>-605.77</td>\n",
       "    </tr>\n",
       "    <tr>\n",
       "      <th>293</th>\n",
       "      <td>41089.40</td>\n",
       "      <td>49500.0</td>\n",
       "      <td>-8410.60</td>\n",
       "    </tr>\n",
       "  </tbody>\n",
       "</table>\n",
       "</div>"
      ],
      "text/plain": [
       "      predicted     true  difference\n",
       "2480   41356.50  38000.0     3356.50\n",
       "332    25047.35  28500.0    -3452.65\n",
       "2612   64611.37  59900.0     4711.37\n",
       "170    33458.37  31900.0     1558.37\n",
       "48     70619.20  69900.0      719.20\n",
       "2300   11152.30   8900.0     2252.30\n",
       "2653   61661.30  66900.0    -5238.70\n",
       "1994   37622.40  36460.0     1162.40\n",
       "679    28294.23  28900.0     -605.77\n",
       "293    41089.40  49500.0    -8410.60"
      ]
     },
     "execution_count": 38,
     "metadata": {},
     "output_type": "execute_result"
    }
   ],
   "source": [
    "pred = pd.DataFrame.from_dict({'predicted':mod_fit.predict(X_test), 'true':y_test})\n",
    "pred['difference'] = pred.predicted - pred.true\n",
    "pred.sample(n=10).round(2)"
   ]
  },
  {
   "cell_type": "markdown",
   "metadata": {},
   "source": [
    "The average prediction error in car prices is around -R$600. The value being negative means that the model tends to underestimate prices in general. The not-so-good news is that the standard deviation of predictions is pretty high."
   ]
  },
  {
   "cell_type": "code",
   "execution_count": 39,
   "metadata": {},
   "outputs": [
    {
     "data": {
      "text/plain": [
       "count      2922.000000\n",
       "mean       -994.107238\n",
       "std       14655.124251\n",
       "min     -225507.300000\n",
       "25%       -2730.400000\n",
       "50%         319.995000\n",
       "75%        3195.550000\n",
       "max       72687.400000\n",
       "Name: difference, dtype: float64"
      ]
     },
     "execution_count": 39,
     "metadata": {},
     "output_type": "execute_result"
    }
   ],
   "source": [
    "pred.difference.describe()"
   ]
  },
  {
   "cell_type": "markdown",
   "metadata": {},
   "source": [
    "## Model tuning\n",
    "\n",
    "The random forest regressor have a few hyperparameters that can be tuned to improve overall accuracy. I will play around with `n_estimators` (the number of estimators/trees) and `min_samples_leaf` (the minimum number of samples to be in a tree branch). One might be tempted to test all parameters, but the computational costs quickly grow according to the number of parameters, possible values and cross-validation folds:"
   ]
  },
  {
   "cell_type": "code",
   "execution_count": 40,
   "metadata": {},
   "outputs": [
    {
     "name": "stdout",
     "output_type": "stream",
     "text": [
      "Best choice of parameter: {'model__min_samples_leaf': 1, 'model__n_estimators': 100}\n"
     ]
    }
   ],
   "source": [
    "from sklearn.model_selection import GridSearchCV\n",
    "\n",
    "# cross validation folds\n",
    "folds=3\n",
    "\n",
    "# set parameter range for grid search\n",
    "params = {'model__n_estimators': [10, 20, 30, 50, 100], 'model__min_samples_leaf': [1,2]}\n",
    "\n",
    "grids = GridSearchCV(mod, param_grid=params, cv=folds)\n",
    "grids_fit = grids.fit(X_train, y_train)\n",
    "\n",
    "print('Best choice of parameter:', grids_fit.best_params_)"
   ]
  },
  {
   "cell_type": "markdown",
   "metadata": {},
   "source": [
    "# Validation\n",
    "\n",
    "First, I will perform a three-fold cross validation (that is, calculate training and test scores for three random sub-samples of data) and take the mean of scores:"
   ]
  },
  {
   "cell_type": "code",
   "execution_count": 41,
   "metadata": {},
   "outputs": [
    {
     "name": "stdout",
     "output_type": "stream",
     "text": [
      "Average train score: 0.9755\n",
      "Average test score: 0.8075\n"
     ]
    }
   ],
   "source": [
    "from sklearn.model_selection import cross_validate\n",
    "\n",
    "mod_cross_val = cross_validate(mod, X, y=y, cv=folds, return_train_score=True)\n",
    "\n",
    "print('Average train score:', mod_cross_val['train_score'].mean().round(4))\n",
    "print('Average test score:',  mod_cross_val['test_score'].mean().round(4))"
   ]
  },
  {
   "cell_type": "markdown",
   "metadata": {},
   "source": [
    "Next, the learning curve tells us how model prediction improves as we add training samples (that's when the machine is _learning_):"
   ]
  },
  {
   "cell_type": "code",
   "execution_count": 42,
   "metadata": {},
   "outputs": [
    {
     "data": {
      "text/plain": [
       "<matplotlib.legend.Legend at 0x7f43e7f7ce48>"
      ]
     },
     "execution_count": 42,
     "metadata": {},
     "output_type": "execute_result"
    },
    {
     "data": {
      "image/png": "[encoded data removed]",
      "text/plain": [
       "<Figure size 432x288 with 1 Axes>"
      ]
     },
     "metadata": {
      "needs_background": "light"
     },
     "output_type": "display_data"
    }
   ],
   "source": [
    "from sklearn.model_selection import learning_curve\n",
    "\n",
    "learn_tr_size, learn_train_sc, learn_test_sc = learning_curve(mod, X_train, y_train, cv=folds)\n",
    "\n",
    "# calculate mean over cross-validation folds\n",
    "learn_train_m = np.apply_along_axis(np.mean, 1, learn_train_sc)\n",
    "learn_test_m  = np.apply_along_axis(np.mean, 1, learn_test_sc)\n",
    "\n",
    "plt.plot(learn_tr_size, learn_train_m)\n",
    "plt.plot(learn_tr_size, learn_test_m)\n",
    "plt.title('Learning curve')\n",
    "plt.xlabel('Training samples')\n",
    "plt.ylabel('Scores')\n",
    "plt.legend(['Train score','Test score'])"
   ]
  },
  {
   "cell_type": "markdown",
   "metadata": {},
   "source": [
    "The learning curve tells us that our model performs much better in training than in test data, although both scores improve as we add samples. Intuitively, this means that the model struggles to generalize to new, unknown cases. Improvements can be made in the following senses:\n",
    "\n",
    "- *Model tuning*: Results from the learning curve are a sign of overfitting. A solution could be fitting a more parsimonious tree.\n",
    "- *Feature engineering*: in a regression context, having a single coefficient for `kilometers` means that all cars depreciate at a constant rate. But we know that luxury or fuel-efficient models keep their value for longer. A solution would be the creation of features that are interactions of `model` and `vehicle_year`."
   ]
  }
 ],
 "metadata": {
  "kernelspec": {
   "display_name": "Python 3",
   "language": "python",
   "name": "python3"
  },
  "language_info": {
   "codemirror_mode": {
    "name": "ipython",
    "version": 3
   },
   "file_extension": ".py",
   "mimetype": "text/x-python",
   "name": "python",
   "nbconvert_exporter": "python",
   "pygments_lexer": "ipython3",
   "version": "3.6.6"
  }
 },
 "nbformat": 4,
 "nbformat_minor": 1
}
